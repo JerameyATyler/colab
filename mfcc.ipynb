{
  "nbformat": 4,
  "nbformat_minor": 0,
  "metadata": {
    "colab": {
      "name": "mfcc.ipynb",
      "version": "0.3.2",
      "provenance": [],
      "include_colab_link": true
    },
    "kernelspec": {
      "name": "python3",
      "display_name": "Python 3"
    }
  },
  "cells": [
    {
      "cell_type": "markdown",
      "metadata": {
        "id": "view-in-github",
        "colab_type": "text"
      },
      "source": [
        "<a href=\"https://colab.research.google.com/github/JerameyATyler/colab/blob/master/mfcc.ipynb\" target=\"_parent\"><img src=\"https://colab.research.google.com/assets/colab-badge.svg\" alt=\"Open In Colab\"/></a>"
      ]
    },
    {
      "cell_type": "markdown",
      "metadata": {
        "id": "DMqj1UL06Ent",
        "colab_type": "text"
      },
      "source": [
        "[![Open In Colab](https://colab.research.google.com/assets/colab-badge.svg)](https://colab.research.google.com/github/JerameyATyler/colab/blob/master/mfcc.ipynb)\n",
        "\n",
        "# Convolutional Neural Networks for Mandarin Tone Classification using Mel-Frequency Cepstral Coefficients\n",
        "\n",
        "Jeramey Tyler tylerj2@rpi.edu\n",
        "\n",
        "\n",
        "---\n",
        "\n"
      ]
    },
    {
      "cell_type": "markdown",
      "metadata": {
        "id": "Npb11CHc6vnM",
        "colab_type": "text"
      },
      "source": [
        "# Introduction"
      ]
    },
    {
      "cell_type": "markdown",
      "metadata": {
        "id": "bxh0CviH7XmV",
        "colab_type": "text"
      },
      "source": [
        "In a tonal language, semantic information is conveyed through the pronunication of the a spoken word. This adds an dimension of complexity to automatic speech recognition tasks (ASR) involving tonal languages. In this notebook I demonstrate classifying Mandarin tones using a convolutional neural network trained on the Mel-frequency cepstral coefficients (MFCC) representation of spoken Mandarin phonemes."
      ]
    },
    {
      "cell_type": "markdown",
      "metadata": {
        "id": "BcwCOcvb6v3H",
        "colab_type": "text"
      },
      "source": [
        "# Data"
      ]
    },
    {
      "cell_type": "markdown",
      "metadata": {
        "id": "pHaxvknT9U1t",
        "colab_type": "text"
      },
      "source": [
        "## Data Loading"
      ]
    },
    {
      "cell_type": "markdown",
      "metadata": {
        "id": "6QVpz_wrTToN",
        "colab_type": "text"
      },
      "source": [
        "The data for this experiment is stored at [this](https://github.com/JerameyATyler/Mandarin_data) GitHub repository. The code below will clone the repository."
      ]
    },
    {
      "cell_type": "code",
      "metadata": {
        "id": "MIz_MpVxTS0q",
        "colab_type": "code",
        "outputId": "ba289d47-a75a-4d89-9978-703b1b9a5eb5",
        "colab": {
          "base_uri": "https://localhost:8080/",
          "height": 119
        }
      },
      "source": [
        "!git clone https://github.com/JerameyATyler/Mandarin_data.git"
      ],
      "execution_count": 1,
      "outputs": [
        {
          "output_type": "stream",
          "text": [
            "Cloning into 'Mandarin_data'...\n",
            "remote: Enumerating objects: 6, done.\u001b[K\n",
            "remote: Counting objects: 100% (6/6), done.\u001b[K\n",
            "remote: Compressing objects: 100% (5/5), done.\u001b[K\n",
            "remote: Total 6 (delta 0), reused 0 (delta 0), pack-reused 0\n",
            "Unpacking objects: 100% (6/6), done.\n"
          ],
          "name": "stdout"
        }
      ]
    },
    {
      "cell_type": "markdown",
      "metadata": {
        "id": "R1YYbpDPe5qc",
        "colab_type": "text"
      },
      "source": [
        "Read data into a Pandas Dataframe."
      ]
    },
    {
      "cell_type": "code",
      "metadata": {
        "id": "AniJV2kreXyg",
        "colab_type": "code",
        "outputId": "2388ac32-c99d-46ca-ce6a-a76db44d7315",
        "colab": {
          "base_uri": "https://localhost:8080/",
          "height": 142
        }
      },
      "source": [
        "import pandas as pd\n",
        "\n",
        "def load_data():\n",
        "  df = pd.read_pickle('Mandarin_data/mfcc_small.pkl', compression=None)\n",
        "  \n",
        "  return df\n",
        "\n",
        "df = load_data()\n",
        "df.head(3)"
      ],
      "execution_count": 2,
      "outputs": [
        {
          "output_type": "execute_result",
          "data": {
            "text/html": [
              "<div>\n",
              "<style scoped>\n",
              "    .dataframe tbody tr th:only-of-type {\n",
              "        vertical-align: middle;\n",
              "    }\n",
              "\n",
              "    .dataframe tbody tr th {\n",
              "        vertical-align: top;\n",
              "    }\n",
              "\n",
              "    .dataframe thead th {\n",
              "        text-align: right;\n",
              "    }\n",
              "</style>\n",
              "<table border=\"1\" class=\"dataframe\">\n",
              "  <thead>\n",
              "    <tr style=\"text-align: right;\">\n",
              "      <th></th>\n",
              "      <th>mfcc</th>\n",
              "      <th>Tone</th>\n",
              "    </tr>\n",
              "  </thead>\n",
              "  <tbody>\n",
              "    <tr>\n",
              "      <th>0</th>\n",
              "      <td>[[-310.8796789564301, -340.46618065634357, -35...</td>\n",
              "      <td>2.0</td>\n",
              "    </tr>\n",
              "    <tr>\n",
              "      <th>1</th>\n",
              "      <td>[[-266.5372726841016, -259.1848098190291, -264...</td>\n",
              "      <td>1.0</td>\n",
              "    </tr>\n",
              "    <tr>\n",
              "      <th>2</th>\n",
              "      <td>[[-291.45163988780587, -251.88196659859761, -2...</td>\n",
              "      <td>3.0</td>\n",
              "    </tr>\n",
              "  </tbody>\n",
              "</table>\n",
              "</div>"
            ],
            "text/plain": [
              "                                                mfcc  Tone\n",
              "0  [[-310.8796789564301, -340.46618065634357, -35...   2.0\n",
              "1  [[-266.5372726841016, -259.1848098190291, -264...   1.0\n",
              "2  [[-291.45163988780587, -251.88196659859761, -2...   3.0"
            ]
          },
          "metadata": {
            "tags": []
          },
          "execution_count": 2
        }
      ]
    },
    {
      "cell_type": "markdown",
      "metadata": {
        "id": "cvAaDtJ29Xvn",
        "colab_type": "text"
      },
      "source": [
        "## Data Representation"
      ]
    },
    {
      "cell_type": "markdown",
      "metadata": {
        "id": "2albnOAMjgqb",
        "colab_type": "text"
      },
      "source": [
        "Let's see what our data looks like."
      ]
    },
    {
      "cell_type": "code",
      "metadata": {
        "id": "-viEP0fKjgzb",
        "colab_type": "code",
        "outputId": "9cc411be-b04d-4be4-e828-51056878ff84",
        "colab": {
          "base_uri": "https://localhost:8080/",
          "height": 1411
        }
      },
      "source": [
        "import matplotlib.pyplot as plt\n",
        "from matplotlib import cm\n",
        "import numpy as np\n",
        "\n",
        "def data_peek(x_):\n",
        "  print('The shape is:', x_.shape)\n",
        "  print('An element looks like:\\n', x_[0])\n",
        "  \n",
        "def plot_mfcc(mfcc):\n",
        "  fig, ax = plt.subplots()\n",
        "  cax = ax.imshow(mfcc, interpolation='nearest', cmap=cm.coolwarm,\n",
        "                 origin='lower')\n",
        "  ax.set_title('MFCC')\n",
        "  plt.show()\n",
        "\n",
        "data_peek(df[['mfcc']].values)"
      ],
      "execution_count": 6,
      "outputs": [
        {
          "output_type": "stream",
          "text": [
            "The shape is: (16026, 1)\n",
            "An element looks like:\n",
            " [array([[-3.10879679e+02, -3.40466181e+02, -3.57547799e+02,\n",
            "        -3.37239442e+02],\n",
            "       [ 1.47140835e+02,  1.44148258e+02,  1.57003995e+02,\n",
            "         1.64028318e+02],\n",
            "       [ 6.54336107e+00, -8.34052299e-01, -1.16083192e+01,\n",
            "        -1.28333806e+01],\n",
            "       [ 6.34890104e+01,  6.54637822e+01,  6.88406324e+01,\n",
            "         7.06317975e+01],\n",
            "       [ 1.78298126e+01,  1.67627488e+01,  2.54703132e+01,\n",
            "         3.28208402e+01],\n",
            "       [-1.07758198e+00, -4.72788243e+00, -1.94982063e+01,\n",
            "        -2.90835285e+01],\n",
            "       [ 1.22708489e+01,  1.74007855e+01,  1.66135280e+01,\n",
            "         1.45633625e+01],\n",
            "       [-2.25837740e+01, -1.91953050e+01, -7.87243110e+00,\n",
            "        -1.45858052e+00],\n",
            "       [-2.23698884e+01, -2.17985852e+01, -2.21270462e+01,\n",
            "        -1.92849987e+01],\n",
            "       [-1.01292864e+01, -1.21503618e+01, -2.43503587e+01,\n",
            "        -2.43666225e+01],\n",
            "       [-1.39319800e+01, -8.81153077e+00, -6.88731804e-01,\n",
            "        -1.11509983e+00],\n",
            "       [-1.87968563e-01, -5.24228694e+00, -7.12264838e+00,\n",
            "        -2.35141584e+00],\n",
            "       [-1.18735733e+01, -1.76921051e+01, -2.09264407e+01,\n",
            "        -1.03421701e+01],\n",
            "       [-1.39844510e+00,  3.70568740e+00,  1.06292645e+01,\n",
            "         6.11837226e+00],\n",
            "       [ 2.65904525e+00,  3.54764402e+00,  7.02706040e+00,\n",
            "         1.08865647e+01],\n",
            "       [ 6.65161115e+00,  4.82444141e+00,  1.86823612e+00,\n",
            "         1.32550732e+00],\n",
            "       [-4.50235235e+00, -5.39405112e+00,  6.24751210e-01,\n",
            "         9.05202591e+00],\n",
            "       [ 1.78293910e-01, -2.57123134e+00,  2.32556572e+00,\n",
            "         3.53410759e+00],\n",
            "       [ 2.46695922e+00, -2.10829865e+00, -1.82765983e+01,\n",
            "        -2.57931662e+01],\n",
            "       [-3.76859267e-01,  5.87478160e-01, -4.47043136e-01,\n",
            "         5.90354227e-01],\n",
            "       [-6.91354547e+00, -2.22737289e+00, -4.94668383e+00,\n",
            "        -5.96327505e+00],\n",
            "       [ 1.42660289e+00,  2.98797931e+00, -3.88964132e+00,\n",
            "        -5.50222850e+00],\n",
            "       [ 8.43423630e+00,  7.32389352e+00, -2.61855269e+00,\n",
            "         5.58633076e-01],\n",
            "       [ 6.00023364e+00,  7.81847421e+00, -4.29886860e-01,\n",
            "        -4.36098457e+00],\n",
            "       [ 1.68290415e+01,  1.37277806e+01,  9.16221320e+00,\n",
            "         9.28424464e+00],\n",
            "       [ 4.99928422e+00,  6.10592153e+00,  1.71729020e+01,\n",
            "         1.93810457e+01],\n",
            "       [ 4.56202293e+00,  4.18810610e+00,  5.33099661e+00,\n",
            "         3.39372906e+00],\n",
            "       [ 2.87875464e+00,  2.75346133e+00,  4.28316184e+00,\n",
            "         2.21993308e+00],\n",
            "       [-8.86963265e+00, -5.91956839e+00, -6.37679745e-01,\n",
            "         8.22556558e-01],\n",
            "       [-1.09968515e+01, -6.71357214e+00, -2.58387859e+00,\n",
            "        -2.21672960e+00],\n",
            "       [-6.14868845e+00, -7.01949111e+00, -5.84394656e+00,\n",
            "        -5.14930201e+00],\n",
            "       [ 1.65060395e+00,  1.43391088e+00,  4.91197082e-01,\n",
            "        -9.20410842e-01],\n",
            "       [-7.50437244e+00, -1.06804582e+01, -1.33777448e+01,\n",
            "        -8.81753494e+00],\n",
            "       [-1.42371880e+00,  2.68243852e+00,  2.53517766e+00,\n",
            "         3.34885915e-01],\n",
            "       [-8.09764295e+00, -8.02784375e+00, -9.57412394e+00,\n",
            "        -8.95606777e+00],\n",
            "       [ 2.99143967e+00,  6.05062091e+00,  6.63710326e+00,\n",
            "         4.69204749e+00],\n",
            "       [ 1.65306972e+00, -1.34405910e+00, -6.67112163e+00,\n",
            "        -9.17047381e+00],\n",
            "       [ 2.57727378e+00,  1.53993865e+00, -2.81294250e+00,\n",
            "        -6.35821337e+00],\n",
            "       [-1.06378845e+01, -9.21131480e+00, -1.12040162e+01,\n",
            "        -1.21549025e+01],\n",
            "       [ 2.34383570e+00,  5.12753642e+00,  6.55445454e+00,\n",
            "         5.05333125e+00]])]\n"
          ],
          "name": "stdout"
        }
      ]
    },
    {
      "cell_type": "code",
      "metadata": {
        "id": "IvL9rSaR_av3",
        "colab_type": "code",
        "outputId": "3389b5ab-8c1a-4446-f489-7c296717e205",
        "colab": {
          "base_uri": "https://localhost:8080/",
          "height": 68
        }
      },
      "source": [
        "data_peek(df[['Tone']].values)"
      ],
      "execution_count": 7,
      "outputs": [
        {
          "output_type": "stream",
          "text": [
            "The shape is: (16026, 1)\n",
            "An element looks like:\n",
            " [2.]\n"
          ],
          "name": "stdout"
        }
      ]
    },
    {
      "cell_type": "markdown",
      "metadata": {
        "id": "odm4NFVYe-v7",
        "colab_type": "text"
      },
      "source": [
        "Let's visualize our data."
      ]
    },
    {
      "cell_type": "code",
      "metadata": {
        "id": "Fpdqsq7hgyPt",
        "colab_type": "code",
        "outputId": "522d4f9f-fda6-454a-eaaa-2ae9d9b0236e",
        "colab": {
          "base_uri": "https://localhost:8080/",
          "height": 281
        }
      },
      "source": [
        "plot_mfcc(df['mfcc'].iloc[0])"
      ],
      "execution_count": 8,
      "outputs": [
        {
          "output_type": "display_data",
          "data": {
            "image/png": "[encoded data removed]",
            "text/plain": [
              "<Figure size 432x288 with 1 Axes>"
            ]
          },
          "metadata": {
            "tags": []
          }
        }
      ]
    },
    {
      "cell_type": "markdown",
      "metadata": {
        "id": "pJ203fVU6wF4",
        "colab_type": "text"
      },
      "source": [
        "# Pre-processing"
      ]
    },
    {
      "cell_type": "markdown",
      "metadata": {
        "id": "mQaCC6_uNonY",
        "colab_type": "text"
      },
      "source": [
        ""
      ]
    },
    {
      "cell_type": "code",
      "metadata": {
        "id": "eD_oKZrXNouP",
        "colab_type": "code",
        "colab": {
          "base_uri": "https://localhost:8080/",
          "height": 1411
        },
        "outputId": "69e20b91-b4f2-4ceb-ee7d-1e24e62bf9ee"
      },
      "source": [
        "from keras.utils import to_categorical\n",
        "\n",
        "def preprocess():\n",
        "  # Load the data into memory\n",
        "  df = load_data()\n",
        "  df['mfcc'] = df['mfcc'].apply(lambda i: i.reshape(40, -1))\n",
        "  \n",
        "  ''' Convert tone categorization to a one-hot categorization '''\n",
        "  # Subtract 1 so that classification aligns with index\n",
        "  df['Tone'] = df['Tone'].apply(lambda i: int(i - 1))\n",
        "  # \n",
        "  df['Tone'] = df['Tone'].apply(lambda i: to_categorical(i, num_classes=4))\n",
        "  \n",
        "  return df\n",
        "\n",
        "df = preprocess()\n",
        "data_peek(df[['mfcc']].values)  "
      ],
      "execution_count": 33,
      "outputs": [
        {
          "output_type": "stream",
          "text": [
            "The shape is: (16026, 1)\n",
            "An element looks like:\n",
            " [array([[-3.10879679e+02, -3.40466181e+02, -3.57547799e+02,\n",
            "        -3.37239442e+02],\n",
            "       [ 1.47140835e+02,  1.44148258e+02,  1.57003995e+02,\n",
            "         1.64028318e+02],\n",
            "       [ 6.54336107e+00, -8.34052299e-01, -1.16083192e+01,\n",
            "        -1.28333806e+01],\n",
            "       [ 6.34890104e+01,  6.54637822e+01,  6.88406324e+01,\n",
            "         7.06317975e+01],\n",
            "       [ 1.78298126e+01,  1.67627488e+01,  2.54703132e+01,\n",
            "         3.28208402e+01],\n",
            "       [-1.07758198e+00, -4.72788243e+00, -1.94982063e+01,\n",
            "        -2.90835285e+01],\n",
            "       [ 1.22708489e+01,  1.74007855e+01,  1.66135280e+01,\n",
            "         1.45633625e+01],\n",
            "       [-2.25837740e+01, -1.91953050e+01, -7.87243110e+00,\n",
            "        -1.45858052e+00],\n",
            "       [-2.23698884e+01, -2.17985852e+01, -2.21270462e+01,\n",
            "        -1.92849987e+01],\n",
            "       [-1.01292864e+01, -1.21503618e+01, -2.43503587e+01,\n",
            "        -2.43666225e+01],\n",
            "       [-1.39319800e+01, -8.81153077e+00, -6.88731804e-01,\n",
            "        -1.11509983e+00],\n",
            "       [-1.87968563e-01, -5.24228694e+00, -7.12264838e+00,\n",
            "        -2.35141584e+00],\n",
            "       [-1.18735733e+01, -1.76921051e+01, -2.09264407e+01,\n",
            "        -1.03421701e+01],\n",
            "       [-1.39844510e+00,  3.70568740e+00,  1.06292645e+01,\n",
            "         6.11837226e+00],\n",
            "       [ 2.65904525e+00,  3.54764402e+00,  7.02706040e+00,\n",
            "         1.08865647e+01],\n",
            "       [ 6.65161115e+00,  4.82444141e+00,  1.86823612e+00,\n",
            "         1.32550732e+00],\n",
            "       [-4.50235235e+00, -5.39405112e+00,  6.24751210e-01,\n",
            "         9.05202591e+00],\n",
            "       [ 1.78293910e-01, -2.57123134e+00,  2.32556572e+00,\n",
            "         3.53410759e+00],\n",
            "       [ 2.46695922e+00, -2.10829865e+00, -1.82765983e+01,\n",
            "        -2.57931662e+01],\n",
            "       [-3.76859267e-01,  5.87478160e-01, -4.47043136e-01,\n",
            "         5.90354227e-01],\n",
            "       [-6.91354547e+00, -2.22737289e+00, -4.94668383e+00,\n",
            "        -5.96327505e+00],\n",
            "       [ 1.42660289e+00,  2.98797931e+00, -3.88964132e+00,\n",
            "        -5.50222850e+00],\n",
            "       [ 8.43423630e+00,  7.32389352e+00, -2.61855269e+00,\n",
            "         5.58633076e-01],\n",
            "       [ 6.00023364e+00,  7.81847421e+00, -4.29886860e-01,\n",
            "        -4.36098457e+00],\n",
            "       [ 1.68290415e+01,  1.37277806e+01,  9.16221320e+00,\n",
            "         9.28424464e+00],\n",
            "       [ 4.99928422e+00,  6.10592153e+00,  1.71729020e+01,\n",
            "         1.93810457e+01],\n",
            "       [ 4.56202293e+00,  4.18810610e+00,  5.33099661e+00,\n",
            "         3.39372906e+00],\n",
            "       [ 2.87875464e+00,  2.75346133e+00,  4.28316184e+00,\n",
            "         2.21993308e+00],\n",
            "       [-8.86963265e+00, -5.91956839e+00, -6.37679745e-01,\n",
            "         8.22556558e-01],\n",
            "       [-1.09968515e+01, -6.71357214e+00, -2.58387859e+00,\n",
            "        -2.21672960e+00],\n",
            "       [-6.14868845e+00, -7.01949111e+00, -5.84394656e+00,\n",
            "        -5.14930201e+00],\n",
            "       [ 1.65060395e+00,  1.43391088e+00,  4.91197082e-01,\n",
            "        -9.20410842e-01],\n",
            "       [-7.50437244e+00, -1.06804582e+01, -1.33777448e+01,\n",
            "        -8.81753494e+00],\n",
            "       [-1.42371880e+00,  2.68243852e+00,  2.53517766e+00,\n",
            "         3.34885915e-01],\n",
            "       [-8.09764295e+00, -8.02784375e+00, -9.57412394e+00,\n",
            "        -8.95606777e+00],\n",
            "       [ 2.99143967e+00,  6.05062091e+00,  6.63710326e+00,\n",
            "         4.69204749e+00],\n",
            "       [ 1.65306972e+00, -1.34405910e+00, -6.67112163e+00,\n",
            "        -9.17047381e+00],\n",
            "       [ 2.57727378e+00,  1.53993865e+00, -2.81294250e+00,\n",
            "        -6.35821337e+00],\n",
            "       [-1.06378845e+01, -9.21131480e+00, -1.12040162e+01,\n",
            "        -1.21549025e+01],\n",
            "       [ 2.34383570e+00,  5.12753642e+00,  6.55445454e+00,\n",
            "         5.05333125e+00]])]\n"
          ],
          "name": "stdout"
        }
      ]
    },
    {
      "cell_type": "markdown",
      "metadata": {
        "id": "2KSFejMrKt1J",
        "colab_type": "text"
      },
      "source": [
        "Let's fetch our values"
      ]
    },
    {
      "cell_type": "code",
      "metadata": {
        "id": "a15vh4NTLQXF",
        "colab_type": "code",
        "colab": {
          "base_uri": "https://localhost:8080/",
          "height": 1462
        },
        "outputId": "9af690b8-6d97-40ed-eff6-7d38fe30022c"
      },
      "source": [
        "def fetch_xy(df):\n",
        "  x = np.array(np.array(df[['mfcc']].values))\n",
        "  y = np.array([np.array(i[0]).reshape(4) for i in df[['Tone']].values])\n",
        "  \n",
        "  return x, y\n",
        "\n",
        "x, y = fetch_xy(df)\n",
        "data_peek(x)\n",
        "data_peek(y)"
      ],
      "execution_count": 47,
      "outputs": [
        {
          "output_type": "stream",
          "text": [
            "The shape is: (16026, 1)\n",
            "An element looks like:\n",
            " [array([[-3.10879679e+02, -3.40466181e+02, -3.57547799e+02,\n",
            "        -3.37239442e+02],\n",
            "       [ 1.47140835e+02,  1.44148258e+02,  1.57003995e+02,\n",
            "         1.64028318e+02],\n",
            "       [ 6.54336107e+00, -8.34052299e-01, -1.16083192e+01,\n",
            "        -1.28333806e+01],\n",
            "       [ 6.34890104e+01,  6.54637822e+01,  6.88406324e+01,\n",
            "         7.06317975e+01],\n",
            "       [ 1.78298126e+01,  1.67627488e+01,  2.54703132e+01,\n",
            "         3.28208402e+01],\n",
            "       [-1.07758198e+00, -4.72788243e+00, -1.94982063e+01,\n",
            "        -2.90835285e+01],\n",
            "       [ 1.22708489e+01,  1.74007855e+01,  1.66135280e+01,\n",
            "         1.45633625e+01],\n",
            "       [-2.25837740e+01, -1.91953050e+01, -7.87243110e+00,\n",
            "        -1.45858052e+00],\n",
            "       [-2.23698884e+01, -2.17985852e+01, -2.21270462e+01,\n",
            "        -1.92849987e+01],\n",
            "       [-1.01292864e+01, -1.21503618e+01, -2.43503587e+01,\n",
            "        -2.43666225e+01],\n",
            "       [-1.39319800e+01, -8.81153077e+00, -6.88731804e-01,\n",
            "        -1.11509983e+00],\n",
            "       [-1.87968563e-01, -5.24228694e+00, -7.12264838e+00,\n",
            "        -2.35141584e+00],\n",
            "       [-1.18735733e+01, -1.76921051e+01, -2.09264407e+01,\n",
            "        -1.03421701e+01],\n",
            "       [-1.39844510e+00,  3.70568740e+00,  1.06292645e+01,\n",
            "         6.11837226e+00],\n",
            "       [ 2.65904525e+00,  3.54764402e+00,  7.02706040e+00,\n",
            "         1.08865647e+01],\n",
            "       [ 6.65161115e+00,  4.82444141e+00,  1.86823612e+00,\n",
            "         1.32550732e+00],\n",
            "       [-4.50235235e+00, -5.39405112e+00,  6.24751210e-01,\n",
            "         9.05202591e+00],\n",
            "       [ 1.78293910e-01, -2.57123134e+00,  2.32556572e+00,\n",
            "         3.53410759e+00],\n",
            "       [ 2.46695922e+00, -2.10829865e+00, -1.82765983e+01,\n",
            "        -2.57931662e+01],\n",
            "       [-3.76859267e-01,  5.87478160e-01, -4.47043136e-01,\n",
            "         5.90354227e-01],\n",
            "       [-6.91354547e+00, -2.22737289e+00, -4.94668383e+00,\n",
            "        -5.96327505e+00],\n",
            "       [ 1.42660289e+00,  2.98797931e+00, -3.88964132e+00,\n",
            "        -5.50222850e+00],\n",
            "       [ 8.43423630e+00,  7.32389352e+00, -2.61855269e+00,\n",
            "         5.58633076e-01],\n",
            "       [ 6.00023364e+00,  7.81847421e+00, -4.29886860e-01,\n",
            "        -4.36098457e+00],\n",
            "       [ 1.68290415e+01,  1.37277806e+01,  9.16221320e+00,\n",
            "         9.28424464e+00],\n",
            "       [ 4.99928422e+00,  6.10592153e+00,  1.71729020e+01,\n",
            "         1.93810457e+01],\n",
            "       [ 4.56202293e+00,  4.18810610e+00,  5.33099661e+00,\n",
            "         3.39372906e+00],\n",
            "       [ 2.87875464e+00,  2.75346133e+00,  4.28316184e+00,\n",
            "         2.21993308e+00],\n",
            "       [-8.86963265e+00, -5.91956839e+00, -6.37679745e-01,\n",
            "         8.22556558e-01],\n",
            "       [-1.09968515e+01, -6.71357214e+00, -2.58387859e+00,\n",
            "        -2.21672960e+00],\n",
            "       [-6.14868845e+00, -7.01949111e+00, -5.84394656e+00,\n",
            "        -5.14930201e+00],\n",
            "       [ 1.65060395e+00,  1.43391088e+00,  4.91197082e-01,\n",
            "        -9.20410842e-01],\n",
            "       [-7.50437244e+00, -1.06804582e+01, -1.33777448e+01,\n",
            "        -8.81753494e+00],\n",
            "       [-1.42371880e+00,  2.68243852e+00,  2.53517766e+00,\n",
            "         3.34885915e-01],\n",
            "       [-8.09764295e+00, -8.02784375e+00, -9.57412394e+00,\n",
            "        -8.95606777e+00],\n",
            "       [ 2.99143967e+00,  6.05062091e+00,  6.63710326e+00,\n",
            "         4.69204749e+00],\n",
            "       [ 1.65306972e+00, -1.34405910e+00, -6.67112163e+00,\n",
            "        -9.17047381e+00],\n",
            "       [ 2.57727378e+00,  1.53993865e+00, -2.81294250e+00,\n",
            "        -6.35821337e+00],\n",
            "       [-1.06378845e+01, -9.21131480e+00, -1.12040162e+01,\n",
            "        -1.21549025e+01],\n",
            "       [ 2.34383570e+00,  5.12753642e+00,  6.55445454e+00,\n",
            "         5.05333125e+00]])]\n",
            "The shape is: (16026, 4)\n",
            "An element looks like:\n",
            " [0. 1. 0. 0.]\n"
          ],
          "name": "stdout"
        }
      ]
    },
    {
      "cell_type": "markdown",
      "metadata": {
        "id": "TFC2-MHFpVCK",
        "colab_type": "text"
      },
      "source": [
        "We need to reshape the MFCC "
      ]
    },
    {
      "cell_type": "code",
      "metadata": {
        "id": "KxKz_0alp_V2",
        "colab_type": "code",
        "outputId": "b3d076cd-e9dc-4c45-8e87-cf252c0a5c60",
        "colab": {
          "base_uri": "https://localhost:8080/",
          "height": 51
        }
      },
      "source": [
        "x = [i[0].reshape(1, 40, -1) for i in x]\n",
        "\n",
        "min_size = min([i.shape for i in x])\n",
        "max_size = max([i.shape for i in x])\n",
        "print('Min sample size:', min_size)\n",
        "print('Max sample size:', max_size)"
      ],
      "execution_count": 48,
      "outputs": [
        {
          "output_type": "stream",
          "text": [
            "Min sample size: (1, 40, 2)\n",
            "Max sample size: (1, 40, 30)\n"
          ],
          "name": "stdout"
        }
      ]
    },
    {
      "cell_type": "markdown",
      "metadata": {
        "id": "NpddAuiCrrOY",
        "colab_type": "text"
      },
      "source": [
        "We need the lengths of each MFCC to be the same. This function will pad each until they are all the same size as the largest sample in the dataset."
      ]
    },
    {
      "cell_type": "code",
      "metadata": {
        "id": "70Cn5-Jur23u",
        "colab_type": "code",
        "outputId": "bb76308e-2522-4129-acf9-a6c5d3b1fd4d",
        "colab": {
          "base_uri": "https://localhost:8080/",
          "height": 272
        }
      },
      "source": [
        "def pad_mfcc(x_, size):\n",
        "  result = np.zeros(size)\n",
        "  result[:x_.shape[0],:x_.shape[1], :x_.shape[2]] = x_\n",
        "  return result\n",
        "\n",
        "x = [pad_mfcc(i, max_size) for i in x]\n",
        "x = np.array(x)\n",
        "\n",
        "data_peek(x)"
      ],
      "execution_count": 49,
      "outputs": [
        {
          "output_type": "stream",
          "text": [
            "The shape is: (16026, 1, 40, 30)\n",
            "An element looks like:\n",
            " [[[-310.87967896 -340.46618066 -357.54779874 ...    0.\n",
            "      0.            0.        ]\n",
            "  [ 147.14083516  144.14825793  157.00399538 ...    0.\n",
            "      0.            0.        ]\n",
            "  [   6.54336107   -0.8340523   -11.60831919 ...    0.\n",
            "      0.            0.        ]\n",
            "  ...\n",
            "  [   2.57727378    1.53993865   -2.8129425  ...    0.\n",
            "      0.            0.        ]\n",
            "  [ -10.63788455   -9.2113148   -11.20401621 ...    0.\n",
            "      0.            0.        ]\n",
            "  [   2.3438357     5.12753642    6.55445454 ...    0.\n",
            "      0.            0.        ]]]\n"
          ],
          "name": "stdout"
        }
      ]
    },
    {
      "cell_type": "markdown",
      "metadata": {
        "id": "benqq5h25YWe",
        "colab_type": "text"
      },
      "source": [
        "Now let's pre-process our labels. "
      ]
    },
    {
      "cell_type": "code",
      "metadata": {
        "id": "r3U3oAaJ4LEi",
        "colab_type": "code",
        "outputId": "9718c25a-d26c-4bef-b1bc-ab0a31435fb5",
        "colab": {
          "base_uri": "https://localhost:8080/",
          "height": 68
        }
      },
      "source": [
        "data_peek(y)"
      ],
      "execution_count": 50,
      "outputs": [
        {
          "output_type": "stream",
          "text": [
            "The shape is: (16026, 4)\n",
            "An element looks like:\n",
            " [0. 1. 0. 0.]\n"
          ],
          "name": "stdout"
        }
      ]
    },
    {
      "cell_type": "code",
      "metadata": {
        "id": "QKY8yKvrwYs7",
        "colab_type": "code",
        "outputId": "23aaa043-56e9-47af-9e2a-b647d0ca16de",
        "colab": {
          "base_uri": "https://localhost:8080/",
          "height": 323
        }
      },
      "source": [
        "from sklearn.model_selection import train_test_split\n",
        "\n",
        "xTrain, xTest, yTrain, yTest = train_test_split(x, y, test_size=0.2, \n",
        "                                                random_state=502)\n",
        "data_peek(xTrain)\n",
        "data_peek(yTrain)"
      ],
      "execution_count": 51,
      "outputs": [
        {
          "output_type": "stream",
          "text": [
            "The shape is: (12820, 1, 40, 30)\n",
            "An element looks like:\n",
            " [[[-310.7386427  -284.72220936 -299.21057504 ...    0.\n",
            "      0.            0.        ]\n",
            "  [ 152.35789553  171.2332157   180.4695477  ...    0.\n",
            "      0.            0.        ]\n",
            "  [ -39.45548486  -45.54806333  -43.26040024 ...    0.\n",
            "      0.            0.        ]\n",
            "  ...\n",
            "  [   2.53544713    2.24401134    0.52120567 ...    0.\n",
            "      0.            0.        ]\n",
            "  [  -4.04034943   -2.47248425    1.07673535 ...    0.\n",
            "      0.            0.        ]\n",
            "  [   3.61585894    3.44456431    4.03078513 ...    0.\n",
            "      0.            0.        ]]]\n",
            "The shape is: (12820, 4)\n",
            "An element looks like:\n",
            " [0. 0. 0. 1.]\n"
          ],
          "name": "stdout"
        }
      ]
    },
    {
      "cell_type": "code",
      "metadata": {
        "id": "I7LUwUOMy-iS",
        "colab_type": "code",
        "outputId": "2b27f183-05e5-4da6-8882-5f386c9bf7c0",
        "colab": {
          "base_uri": "https://localhost:8080/",
          "height": 272
        }
      },
      "source": [
        "from sklearn import preprocessing\n",
        "\n",
        "X_train = np.array([preprocessing.scale(i.reshape(40, 30)) for i in xTrain])\n",
        "X_test = np.array([preprocessing.scale(i.reshape(40, 30)) for i in xTest])\n",
        "data_peek(X_train)"
      ],
      "execution_count": 52,
      "outputs": [
        {
          "output_type": "stream",
          "text": [
            "The shape is: (12820, 40, 30)\n",
            "An element looks like:\n",
            " [[-5.54647868e+00 -5.28417261e+00 -5.27644384e+00 ...  0.00000000e+00\n",
            "   0.00000000e+00  0.00000000e+00]\n",
            " [ 2.82761362e+00  3.26261063e+00  3.25772187e+00 ...  0.00000000e+00\n",
            "   0.00000000e+00  0.00000000e+00]\n",
            " [-6.40913606e-01 -8.00906329e-01 -7.22740026e-01 ...  0.00000000e+00\n",
            "   0.00000000e+00  0.00000000e+00]\n",
            " ...\n",
            " [ 1.18400945e-01  9.49455017e-02  5.61946481e-02 ...  0.00000000e+00\n",
            "   0.00000000e+00  0.00000000e+00]\n",
            " [-5.08013888e-04  6.53583878e-03  6.60782812e-02 ...  0.00000000e+00\n",
            "   0.00000000e+00  0.00000000e+00]\n",
            " [ 1.37937840e-01  1.17449601e-01  1.18634869e-01 ...  0.00000000e+00\n",
            "   0.00000000e+00  0.00000000e+00]]\n"
          ],
          "name": "stdout"
        }
      ]
    },
    {
      "cell_type": "code",
      "metadata": {
        "id": "fZAUrAjt0SvR",
        "colab_type": "code",
        "colab": {}
      },
      "source": [
        "from keras.models import Sequential\n",
        "from keras.optimizers import SGD, RMSprop, Adadelta\n",
        "from keras.layers import Dense, Dropout, Activation\n",
        "from keras.layers import Flatten, Conv2D, MaxPooling2D\n",
        "from keras.regularizers import l1, l2\n",
        "import matplotlib.pyplot as plt"
      ],
      "execution_count": 0,
      "outputs": []
    },
    {
      "cell_type": "code",
      "metadata": {
        "id": "fqXH3wjz0YuI",
        "colab_type": "code",
        "colab": {}
      },
      "source": [
        "def plot_model(history):\n",
        "  plt.plot(history.history['acc'])\n",
        "  plt.plot(history.history['val_acc'])\n",
        "  plt.title('Model Accuracy')\n",
        "  plt.ylabel('Accuracy')\n",
        "  plt.xlabel('Epoch')\n",
        "  plt.legend(['Train', 'Test'], loc='upper left')\n",
        "  plt.show()\n",
        "  \n",
        "  plt.plot(history.history['loss'])\n",
        "  plt.plot(history.history['val_loss'])\n",
        "  plt.title('Model Loss')\n",
        "  plt.ylabel('Loss')\n",
        "  plt.xlabel('Epoch')\n",
        "  plt.legend(['Train', 'Test'], loc='upper left')\n",
        "  plt.show()"
      ],
      "execution_count": 0,
      "outputs": []
    },
    {
      "cell_type": "code",
      "metadata": {
        "id": "gLuFe8UB0tPP",
        "colab_type": "code",
        "outputId": "bd347d6f-4d69-4222-888c-9503d97bdc0d",
        "colab": {
          "base_uri": "https://localhost:8080/",
          "height": 4248
        }
      },
      "source": [
        "def cnn(x_train, x_test, y_train, y_test):\n",
        "  model = Sequential()\n",
        "  model.add(Conv2D(32, (3, 3), input_shape=x_train.shape[1:], dim_ordering='th'))\n",
        "  model.add(Activation('relu'))\n",
        "  model.add(MaxPooling2D(pool_size=(2, 2)))\n",
        "  model.add(Dropout(0.125))\n",
        "  \n",
        "  model.add(Conv2D(32, (3, 3)))\n",
        "  model.add(Activation('relu'))\n",
        "  model.add(MaxPooling2D(pool_size=(2, 2)))\n",
        "  model.add(Dropout(0.125))\n",
        "  \n",
        "  model.add(Flatten())\n",
        "  model.add(Dense(128, activation='relu',\n",
        "                   kernel_regularizer=l2(0.00001),\n",
        "                   activity_regularizer=l1(0.00001)))\n",
        "  model.add(Dropout(0.125))\n",
        "  model.add(Dense(4, activation='softmax'))\n",
        "  \n",
        "  optimizer = SGD(lr=0.01, momentum=1e-2, decay=1e-6)\n",
        "  # optimizer = RMSprop(lr=0.00001, decay=1e-8)\n",
        "  # optimizer = Adadelta()\n",
        "\n",
        "  model.compile(loss='categorical_crossentropy',\n",
        "              optimizer=optimizer,\n",
        "              metrics=['accuracy'])\n",
        "\n",
        "  model_history = model.fit(x_train, y_train,\n",
        "           epochs=100,\n",
        "         batch_size=128, verbose=1, validation_split=0.2)\n",
        "  score = model.evaluate(x_test, y_test, batch_size=32)\n",
        "  print('Model accuracy is:', score[1])\n",
        "\n",
        "  plot_model(model_history)\n",
        "  return model_history\n",
        " \n",
        "cnn(xTrain, xTest, yTrain, yTest)"
      ],
      "execution_count": 55,
      "outputs": [
        {
          "output_type": "stream",
          "text": [
            "WARNING:tensorflow:From /usr/local/lib/python3.6/dist-packages/tensorflow/python/framework/op_def_library.py:263: colocate_with (from tensorflow.python.framework.ops) is deprecated and will be removed in a future version.\n",
            "Instructions for updating:\n",
            "Colocations handled automatically by placer.\n"
          ],
          "name": "stdout"
        },
        {
          "output_type": "stream",
          "text": [
            "/usr/local/lib/python3.6/dist-packages/ipykernel_launcher.py:3: UserWarning: Update your `Conv2D` call to the Keras 2 API: `Conv2D(32, (3, 3), input_shape=(1, 40, 30..., data_format=\"channels_first\")`\n",
            "  This is separate from the ipykernel package so we can avoid doing imports until\n"
          ],
          "name": "stderr"
        },
        {
          "output_type": "stream",
          "text": [
            "WARNING:tensorflow:From /usr/local/lib/python3.6/dist-packages/keras/backend/tensorflow_backend.py:3445: calling dropout (from tensorflow.python.ops.nn_ops) with keep_prob is deprecated and will be removed in a future version.\n",
            "Instructions for updating:\n",
            "Please use `rate` instead of `keep_prob`. Rate should be set to `rate = 1 - keep_prob`.\n",
            "WARNING:tensorflow:From /usr/local/lib/python3.6/dist-packages/tensorflow/python/ops/math_ops.py:3066: to_int32 (from tensorflow.python.ops.math_ops) is deprecated and will be removed in a future version.\n",
            "Instructions for updating:\n",
            "Use tf.cast instead.\n",
            "Train on 10256 samples, validate on 2564 samples\n",
            "Epoch 1/100\n",
            "10256/10256 [==============================] - 20s 2ms/step - loss: 1.5982 - acc: 0.3425 - val_loss: 1.2554 - val_acc: 0.4696\n",
            "Epoch 2/100\n",
            "10256/10256 [==============================] - 20s 2ms/step - loss: 1.2655 - acc: 0.4430 - val_loss: 1.2346 - val_acc: 0.4524\n",
            "Epoch 3/100\n",
            "10256/10256 [==============================] - 20s 2ms/step - loss: 1.2137 - acc: 0.4807 - val_loss: 1.1514 - val_acc: 0.5246\n",
            "Epoch 4/100\n",
            "10256/10256 [==============================] - 20s 2ms/step - loss: 1.1768 - acc: 0.5077 - val_loss: 1.1370 - val_acc: 0.5250\n",
            "Epoch 5/100\n",
            "10256/10256 [==============================] - 20s 2ms/step - loss: 1.1428 - acc: 0.5288 - val_loss: 1.1254 - val_acc: 0.5558\n",
            "Epoch 6/100\n",
            "10256/10256 [==============================] - 20s 2ms/step - loss: 1.1195 - acc: 0.5423 - val_loss: 1.1344 - val_acc: 0.5382\n",
            "Epoch 7/100\n",
            "10256/10256 [==============================] - 20s 2ms/step - loss: 1.1047 - acc: 0.5499 - val_loss: 1.0474 - val_acc: 0.5784\n",
            "Epoch 8/100\n",
            "10256/10256 [==============================] - 20s 2ms/step - loss: 1.0813 - acc: 0.5582 - val_loss: 1.1353 - val_acc: 0.5367\n",
            "Epoch 9/100\n",
            "10256/10256 [==============================] - 20s 2ms/step - loss: 1.0699 - acc: 0.5630 - val_loss: 1.0519 - val_acc: 0.5694\n",
            "Epoch 10/100\n",
            "10256/10256 [==============================] - 20s 2ms/step - loss: 1.0540 - acc: 0.5763 - val_loss: 1.0287 - val_acc: 0.5737\n",
            "Epoch 11/100\n",
            "10256/10256 [==============================] - 20s 2ms/step - loss: 1.0456 - acc: 0.5783 - val_loss: 1.0221 - val_acc: 0.5995\n",
            "Epoch 12/100\n",
            "10256/10256 [==============================] - 20s 2ms/step - loss: 1.0294 - acc: 0.5824 - val_loss: 1.0145 - val_acc: 0.5854\n",
            "Epoch 13/100\n",
            "10256/10256 [==============================] - 20s 2ms/step - loss: 1.0263 - acc: 0.5891 - val_loss: 1.0056 - val_acc: 0.5800\n",
            "Epoch 14/100\n",
            "10256/10256 [==============================] - 20s 2ms/step - loss: 1.0076 - acc: 0.5914 - val_loss: 1.0569 - val_acc: 0.5710\n",
            "Epoch 15/100\n",
            "10256/10256 [==============================] - 20s 2ms/step - loss: 1.0037 - acc: 0.5996 - val_loss: 0.9573 - val_acc: 0.6151\n",
            "Epoch 16/100\n",
            "10256/10256 [==============================] - 20s 2ms/step - loss: 0.9941 - acc: 0.6011 - val_loss: 0.9646 - val_acc: 0.6147\n",
            "Epoch 17/100\n",
            "10256/10256 [==============================] - 20s 2ms/step - loss: 0.9896 - acc: 0.6058 - val_loss: 0.9800 - val_acc: 0.5967\n",
            "Epoch 18/100\n",
            "10256/10256 [==============================] - 20s 2ms/step - loss: 0.9818 - acc: 0.6048 - val_loss: 0.9861 - val_acc: 0.6006\n",
            "Epoch 19/100\n",
            "10256/10256 [==============================] - 20s 2ms/step - loss: 0.9680 - acc: 0.6158 - val_loss: 0.9553 - val_acc: 0.6299\n",
            "Epoch 20/100\n",
            "10256/10256 [==============================] - 20s 2ms/step - loss: 0.9662 - acc: 0.6183 - val_loss: 0.9869 - val_acc: 0.6045\n",
            "Epoch 21/100\n",
            "10256/10256 [==============================] - 20s 2ms/step - loss: 0.9580 - acc: 0.6193 - val_loss: 0.9570 - val_acc: 0.6154\n",
            "Epoch 22/100\n",
            "10256/10256 [==============================] - 20s 2ms/step - loss: 0.9499 - acc: 0.6234 - val_loss: 0.9540 - val_acc: 0.6112\n",
            "Epoch 23/100\n",
            "10256/10256 [==============================] - 20s 2ms/step - loss: 0.9397 - acc: 0.6326 - val_loss: 0.9249 - val_acc: 0.6388\n",
            "Epoch 24/100\n",
            "10256/10256 [==============================] - 20s 2ms/step - loss: 0.9341 - acc: 0.6299 - val_loss: 0.9229 - val_acc: 0.6494\n",
            "Epoch 25/100\n",
            "10256/10256 [==============================] - 20s 2ms/step - loss: 0.9289 - acc: 0.6307 - val_loss: 0.9582 - val_acc: 0.6240\n",
            "Epoch 26/100\n",
            "10256/10256 [==============================] - 20s 2ms/step - loss: 0.9270 - acc: 0.6298 - val_loss: 0.9081 - val_acc: 0.6478\n",
            "Epoch 27/100\n",
            "10256/10256 [==============================] - 20s 2ms/step - loss: 0.9187 - acc: 0.6389 - val_loss: 0.9079 - val_acc: 0.6544\n",
            "Epoch 28/100\n",
            "10256/10256 [==============================] - 20s 2ms/step - loss: 0.9084 - acc: 0.6448 - val_loss: 0.9119 - val_acc: 0.6482\n",
            "Epoch 29/100\n",
            "10256/10256 [==============================] - 20s 2ms/step - loss: 0.9074 - acc: 0.6452 - val_loss: 0.9506 - val_acc: 0.6190\n",
            "Epoch 30/100\n",
            "10256/10256 [==============================] - 20s 2ms/step - loss: 0.8972 - acc: 0.6497 - val_loss: 0.8986 - val_acc: 0.6416\n",
            "Epoch 31/100\n",
            "10256/10256 [==============================] - 20s 2ms/step - loss: 0.8961 - acc: 0.6526 - val_loss: 0.9434 - val_acc: 0.6162\n",
            "Epoch 32/100\n",
            "10256/10256 [==============================] - 20s 2ms/step - loss: 0.8931 - acc: 0.6488 - val_loss: 0.9037 - val_acc: 0.6459\n",
            "Epoch 33/100\n",
            "10256/10256 [==============================] - 20s 2ms/step - loss: 0.8832 - acc: 0.6591 - val_loss: 0.9069 - val_acc: 0.6353\n",
            "Epoch 34/100\n",
            "10256/10256 [==============================] - 20s 2ms/step - loss: 0.8861 - acc: 0.6550 - val_loss: 0.9537 - val_acc: 0.6115\n",
            "Epoch 35/100\n",
            "10256/10256 [==============================] - 20s 2ms/step - loss: 0.8766 - acc: 0.6628 - val_loss: 0.9162 - val_acc: 0.6357\n",
            "Epoch 36/100\n",
            "10256/10256 [==============================] - 20s 2ms/step - loss: 0.8649 - acc: 0.6583 - val_loss: 0.8924 - val_acc: 0.6552\n",
            "Epoch 37/100\n",
            "10256/10256 [==============================] - 20s 2ms/step - loss: 0.8684 - acc: 0.6672 - val_loss: 0.8890 - val_acc: 0.6509\n",
            "Epoch 38/100\n",
            "10256/10256 [==============================] - 20s 2ms/step - loss: 0.8704 - acc: 0.6596 - val_loss: 0.8776 - val_acc: 0.6607\n",
            "Epoch 39/100\n",
            "10256/10256 [==============================] - 20s 2ms/step - loss: 0.8654 - acc: 0.6671 - val_loss: 0.8981 - val_acc: 0.6459\n",
            "Epoch 40/100\n",
            "10256/10256 [==============================] - 20s 2ms/step - loss: 0.8596 - acc: 0.6668 - val_loss: 0.8770 - val_acc: 0.6580\n",
            "Epoch 41/100\n",
            "10256/10256 [==============================] - 20s 2ms/step - loss: 0.8472 - acc: 0.6720 - val_loss: 0.8700 - val_acc: 0.6646\n",
            "Epoch 42/100\n",
            "10256/10256 [==============================] - 20s 2ms/step - loss: 0.8452 - acc: 0.6706 - val_loss: 0.8651 - val_acc: 0.6693\n",
            "Epoch 43/100\n",
            "10256/10256 [==============================] - 20s 2ms/step - loss: 0.8407 - acc: 0.6738 - val_loss: 0.8661 - val_acc: 0.6712\n",
            "Epoch 44/100\n",
            "10256/10256 [==============================] - 20s 2ms/step - loss: 0.8410 - acc: 0.6792 - val_loss: 0.8701 - val_acc: 0.6548\n",
            "Epoch 45/100\n",
            "10256/10256 [==============================] - 20s 2ms/step - loss: 0.8418 - acc: 0.6699 - val_loss: 0.8745 - val_acc: 0.6669\n",
            "Epoch 46/100\n",
            "10256/10256 [==============================] - 20s 2ms/step - loss: 0.8348 - acc: 0.6763 - val_loss: 0.8824 - val_acc: 0.6502\n",
            "Epoch 47/100\n",
            "10256/10256 [==============================] - 20s 2ms/step - loss: 0.8223 - acc: 0.6864 - val_loss: 0.8610 - val_acc: 0.6693\n",
            "Epoch 48/100\n",
            "10256/10256 [==============================] - 20s 2ms/step - loss: 0.8174 - acc: 0.6823 - val_loss: 0.8600 - val_acc: 0.6704\n",
            "Epoch 49/100\n",
            "10256/10256 [==============================] - 20s 2ms/step - loss: 0.8153 - acc: 0.6854 - val_loss: 0.8458 - val_acc: 0.6763\n",
            "Epoch 50/100\n",
            "10256/10256 [==============================] - 20s 2ms/step - loss: 0.8202 - acc: 0.6831 - val_loss: 0.8713 - val_acc: 0.6568\n",
            "Epoch 51/100\n",
            "10256/10256 [==============================] - 20s 2ms/step - loss: 0.8043 - acc: 0.6897 - val_loss: 0.9165 - val_acc: 0.6385\n",
            "Epoch 52/100\n",
            "10256/10256 [==============================] - 20s 2ms/step - loss: 0.8047 - acc: 0.6922 - val_loss: 0.8837 - val_acc: 0.6556\n",
            "Epoch 53/100\n",
            "10256/10256 [==============================] - 20s 2ms/step - loss: 0.7967 - acc: 0.6930 - val_loss: 0.8563 - val_acc: 0.6693\n",
            "Epoch 54/100\n",
            "10256/10256 [==============================] - 20s 2ms/step - loss: 0.8034 - acc: 0.6940 - val_loss: 0.8683 - val_acc: 0.6529\n",
            "Epoch 55/100\n",
            "10256/10256 [==============================] - 20s 2ms/step - loss: 0.8031 - acc: 0.6986 - val_loss: 0.8435 - val_acc: 0.6767\n",
            "Epoch 56/100\n",
            "10256/10256 [==============================] - 20s 2ms/step - loss: 0.7997 - acc: 0.6890 - val_loss: 0.8756 - val_acc: 0.6708\n",
            "Epoch 57/100\n",
            "10256/10256 [==============================] - 20s 2ms/step - loss: 0.7924 - acc: 0.6978 - val_loss: 0.9945 - val_acc: 0.6162\n",
            "Epoch 58/100\n",
            "10256/10256 [==============================] - 20s 2ms/step - loss: 0.7953 - acc: 0.6988 - val_loss: 0.8259 - val_acc: 0.6833\n",
            "Epoch 59/100\n",
            "10256/10256 [==============================] - 20s 2ms/step - loss: 0.7828 - acc: 0.7024 - val_loss: 0.8730 - val_acc: 0.6626\n",
            "Epoch 60/100\n",
            "10256/10256 [==============================] - 20s 2ms/step - loss: 0.7864 - acc: 0.6978 - val_loss: 0.8302 - val_acc: 0.6841\n",
            "Epoch 61/100\n",
            "10256/10256 [==============================] - 20s 2ms/step - loss: 0.7791 - acc: 0.7048 - val_loss: 0.8624 - val_acc: 0.6814\n",
            "Epoch 62/100\n",
            "10256/10256 [==============================] - 20s 2ms/step - loss: 0.7774 - acc: 0.7021 - val_loss: 0.8748 - val_acc: 0.6689\n",
            "Epoch 63/100\n",
            "10256/10256 [==============================] - 20s 2ms/step - loss: 0.7785 - acc: 0.7076 - val_loss: 0.8334 - val_acc: 0.6755\n",
            "Epoch 64/100\n",
            "10256/10256 [==============================] - 20s 2ms/step - loss: 0.7603 - acc: 0.7112 - val_loss: 0.8357 - val_acc: 0.6876\n",
            "Epoch 65/100\n",
            "10256/10256 [==============================] - 20s 2ms/step - loss: 0.7730 - acc: 0.7033 - val_loss: 0.8781 - val_acc: 0.6591\n",
            "Epoch 66/100\n",
            "10256/10256 [==============================] - 20s 2ms/step - loss: 0.7505 - acc: 0.7150 - val_loss: 0.8347 - val_acc: 0.6778\n",
            "Epoch 67/100\n",
            "10256/10256 [==============================] - 20s 2ms/step - loss: 0.7513 - acc: 0.7199 - val_loss: 0.8734 - val_acc: 0.6794\n",
            "Epoch 68/100\n",
            "10256/10256 [==============================] - 20s 2ms/step - loss: 0.7487 - acc: 0.7184 - val_loss: 0.8347 - val_acc: 0.6821\n",
            "Epoch 69/100\n",
            "10256/10256 [==============================] - 20s 2ms/step - loss: 0.7472 - acc: 0.7178 - val_loss: 0.8783 - val_acc: 0.6658\n",
            "Epoch 70/100\n",
            "10256/10256 [==============================] - 20s 2ms/step - loss: 0.7451 - acc: 0.7213 - val_loss: 0.8378 - val_acc: 0.6673\n",
            "Epoch 71/100\n",
            "10256/10256 [==============================] - 20s 2ms/step - loss: 0.7493 - acc: 0.7163 - val_loss: 0.8740 - val_acc: 0.6669\n",
            "Epoch 72/100\n",
            "10256/10256 [==============================] - 20s 2ms/step - loss: 0.7436 - acc: 0.7187 - val_loss: 0.8103 - val_acc: 0.6915\n",
            "Epoch 73/100\n",
            "10256/10256 [==============================] - 20s 2ms/step - loss: 0.7468 - acc: 0.7215 - val_loss: 0.8333 - val_acc: 0.6880\n",
            "Epoch 74/100\n",
            "10256/10256 [==============================] - 20s 2ms/step - loss: 0.7400 - acc: 0.7207 - val_loss: 0.8183 - val_acc: 0.6884\n",
            "Epoch 75/100\n",
            "10256/10256 [==============================] - 20s 2ms/step - loss: 0.7341 - acc: 0.7207 - val_loss: 0.9340 - val_acc: 0.6451\n",
            "Epoch 76/100\n",
            "10256/10256 [==============================] - 20s 2ms/step - loss: 0.7322 - acc: 0.7248 - val_loss: 0.8379 - val_acc: 0.6794\n",
            "Epoch 77/100\n",
            "10256/10256 [==============================] - 20s 2ms/step - loss: 0.7301 - acc: 0.7223 - val_loss: 0.8406 - val_acc: 0.6782\n",
            "Epoch 78/100\n",
            "10256/10256 [==============================] - 20s 2ms/step - loss: 0.7304 - acc: 0.7272 - val_loss: 0.9429 - val_acc: 0.6408\n",
            "Epoch 79/100\n",
            "10256/10256 [==============================] - 20s 2ms/step - loss: 0.7343 - acc: 0.7258 - val_loss: 0.8447 - val_acc: 0.6775\n",
            "Epoch 80/100\n",
            "10256/10256 [==============================] - 20s 2ms/step - loss: 0.7297 - acc: 0.7274 - val_loss: 0.8097 - val_acc: 0.6895\n",
            "Epoch 81/100\n",
            "10256/10256 [==============================] - 20s 2ms/step - loss: 0.7209 - acc: 0.7266 - val_loss: 0.8263 - val_acc: 0.6837\n",
            "Epoch 82/100\n",
            "10256/10256 [==============================] - 20s 2ms/step - loss: 0.7153 - acc: 0.7297 - val_loss: 0.8301 - val_acc: 0.6919\n",
            "Epoch 83/100\n",
            "10256/10256 [==============================] - 20s 2ms/step - loss: 0.7131 - acc: 0.7364 - val_loss: 0.8212 - val_acc: 0.6872\n",
            "Epoch 84/100\n",
            "10256/10256 [==============================] - 20s 2ms/step - loss: 0.7093 - acc: 0.7338 - val_loss: 0.8330 - val_acc: 0.6856\n",
            "Epoch 85/100\n",
            "10256/10256 [==============================] - 20s 2ms/step - loss: 0.7055 - acc: 0.7317 - val_loss: 0.8584 - val_acc: 0.6704\n",
            "Epoch 86/100\n",
            "10256/10256 [==============================] - 20s 2ms/step - loss: 0.7035 - acc: 0.7379 - val_loss: 0.8052 - val_acc: 0.6977\n",
            "Epoch 87/100\n",
            "10256/10256 [==============================] - 20s 2ms/step - loss: 0.7056 - acc: 0.7376 - val_loss: 0.8096 - val_acc: 0.6942\n",
            "Epoch 88/100\n",
            "10256/10256 [==============================] - 20s 2ms/step - loss: 0.7021 - acc: 0.7403 - val_loss: 0.8288 - val_acc: 0.6821\n",
            "Epoch 89/100\n",
            "10256/10256 [==============================] - 20s 2ms/step - loss: 0.6997 - acc: 0.7338 - val_loss: 0.8425 - val_acc: 0.6786\n",
            "Epoch 90/100\n",
            "10256/10256 [==============================] - 20s 2ms/step - loss: 0.6991 - acc: 0.7332 - val_loss: 0.8014 - val_acc: 0.6915\n",
            "Epoch 91/100\n",
            "10256/10256 [==============================] - 20s 2ms/step - loss: 0.6829 - acc: 0.7430 - val_loss: 0.9672 - val_acc: 0.6310\n",
            "Epoch 92/100\n",
            "10256/10256 [==============================] - 20s 2ms/step - loss: 0.6958 - acc: 0.7373 - val_loss: 0.8786 - val_acc: 0.6650\n",
            "Epoch 93/100\n",
            "10256/10256 [==============================] - 20s 2ms/step - loss: 0.6883 - acc: 0.7392 - val_loss: 0.8060 - val_acc: 0.6895\n",
            "Epoch 94/100\n",
            "10256/10256 [==============================] - 20s 2ms/step - loss: 0.6755 - acc: 0.7422 - val_loss: 0.8207 - val_acc: 0.6899\n",
            "Epoch 95/100\n",
            "10256/10256 [==============================] - 20s 2ms/step - loss: 0.6813 - acc: 0.7463 - val_loss: 0.8292 - val_acc: 0.6794\n",
            "Epoch 96/100\n",
            "10256/10256 [==============================] - 20s 2ms/step - loss: 0.6708 - acc: 0.7514 - val_loss: 0.8065 - val_acc: 0.6919\n",
            "Epoch 97/100\n",
            "10256/10256 [==============================] - 20s 2ms/step - loss: 0.6754 - acc: 0.7402 - val_loss: 0.8317 - val_acc: 0.6911\n",
            "Epoch 98/100\n",
            "10256/10256 [==============================] - 20s 2ms/step - loss: 0.6789 - acc: 0.7471 - val_loss: 0.8476 - val_acc: 0.6798\n",
            "Epoch 99/100\n",
            "10256/10256 [==============================] - 20s 2ms/step - loss: 0.6748 - acc: 0.7458 - val_loss: 0.8156 - val_acc: 0.6907\n",
            "Epoch 100/100\n",
            "10256/10256 [==============================] - 20s 2ms/step - loss: 0.6674 - acc: 0.7539 - val_loss: 0.7982 - val_acc: 0.7016\n",
            "3206/3206 [==============================] - 2s 725us/step\n",
            "Model accuracy is: 0.7102308171805336\n"
          ],
          "name": "stdout"
        },
        {
          "output_type": "display_data",
          "data": {
            "image/png": "[encoded data removed]",
            "text/plain": [
              "<Figure size 432x288 with 1 Axes>"
            ]
          },
          "metadata": {
            "tags": []
          }
        },
        {
          "output_type": "display_data",
          "data": {
            "image/png": "[encoded data removed]",
            "text/plain": [
              "<Figure size 432x288 with 1 Axes>"
            ]
          },
          "metadata": {
            "tags": []
          }
        },
        {
          "output_type": "execute_result",
          "data": {
            "text/plain": [
              "<keras.callbacks.History at 0x7f0964f43ac8>"
            ]
          },
          "metadata": {
            "tags": []
          },
          "execution_count": 55
        }
      ]
    }
  ]
}