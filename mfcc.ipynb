{
  "nbformat": 4,
  "nbformat_minor": 0,
  "metadata": {
    "colab": {
      "name": "mfcc.ipynb",
      "version": "0.3.2",
      "provenance": []
    },
    "kernelspec": {
      "name": "python3",
      "display_name": "Python 3"
    }
  },
  "cells": [
    {
      "cell_type": "markdown",
      "metadata": {
        "id": "DMqj1UL06Ent",
        "colab_type": "text"
      },
      "source": [
        "# Convolutional Neural Networks for Mandarin Tone Classification using Mel-Frequency Cepstral Coefficients\n",
        "\n",
        "Jeramey Tyler tylerj2@rpi.edu\n",
        "\n",
        "\n",
        "---\n",
        "\n"
      ]
    },
    {
      "cell_type": "markdown",
      "metadata": {
        "id": "Npb11CHc6vnM",
        "colab_type": "text"
      },
      "source": [
        "# Introduction"
      ]
    },
    {
      "cell_type": "markdown",
      "metadata": {
        "id": "bxh0CviH7XmV",
        "colab_type": "text"
      },
      "source": [
        "In a tonal language, semantic information is conveyed through the pronunication of the a spoken word. This adds an dimension of complexity to automatic speech recognition tasks (ASR) involving tonal languages. In this notebook I demonstrate classifying Mandarin tones using a convolutional neural network trained on the Mel-frequency cepstral coefficients (MFCC) representation of spoken Mandarin phonemes."
      ]
    },
    {
      "cell_type": "markdown",
      "metadata": {
        "id": "BcwCOcvb6v3H",
        "colab_type": "text"
      },
      "source": [
        "# Data"
      ]
    },
    {
      "cell_type": "markdown",
      "metadata": {
        "id": "pHaxvknT9U1t",
        "colab_type": "text"
      },
      "source": [
        "## Data Loading"
      ]
    },
    {
      "cell_type": "markdown",
      "metadata": {
        "id": "6QVpz_wrTToN",
        "colab_type": "text"
      },
      "source": [
        "The data for this experiment is stored at [this](https://github.com/JerameyATyler/Mandarin_data) GitHub repository. The code below will clone the repository."
      ]
    },
    {
      "cell_type": "code",
      "metadata": {
        "id": "MIz_MpVxTS0q",
        "colab_type": "code",
        "outputId": "fceccf4f-9806-4050-9e20-b75e67ed70bc",
        "colab": {
          "base_uri": "https://localhost:8080/",
          "height": 119
        }
      },
      "source": [
        "!git clone https://github.com/JerameyATyler/Mandarin_data.git"
      ],
      "execution_count": 2,
      "outputs": [
        {
          "output_type": "stream",
          "text": [
            "Cloning into 'Mandarin_data'...\n",
            "remote: Enumerating objects: 6, done.\u001b[K\n",
            "remote: Counting objects: 100% (6/6), done.\u001b[K\n",
            "remote: Compressing objects: 100% (5/5), done.\u001b[K\n",
            "remote: Total 6 (delta 0), reused 0 (delta 0), pack-reused 0\n",
            "Unpacking objects: 100% (6/6), done.\n"
          ],
          "name": "stdout"
        }
      ]
    },
    {
      "cell_type": "markdown",
      "metadata": {
        "id": "R1YYbpDPe5qc",
        "colab_type": "text"
      },
      "source": [
        "Read data into a Pandas Dataframe."
      ]
    },
    {
      "cell_type": "code",
      "metadata": {
        "id": "AniJV2kreXyg",
        "colab_type": "code",
        "outputId": "9ed01697-98d9-4a63-f776-c83172f0f7cd",
        "colab": {
          "base_uri": "https://localhost:8080/",
          "height": 142
        }
      },
      "source": [
        "import pandas as pd\n",
        "\n",
        "def load_data():\n",
        "  df = pd.read_pickle('Mandarin_data/mfcc_small.pkl', compression=None)\n",
        "  \n",
        "  return df\n",
        "\n",
        "df = load_data()\n",
        "df.head(3)"
      ],
      "execution_count": 2,
      "outputs": [
        {
          "output_type": "execute_result",
          "data": {
            "text/html": [
              "<div>\n",
              "<style scoped>\n",
              "    .dataframe tbody tr th:only-of-type {\n",
              "        vertical-align: middle;\n",
              "    }\n",
              "\n",
              "    .dataframe tbody tr th {\n",
              "        vertical-align: top;\n",
              "    }\n",
              "\n",
              "    .dataframe thead th {\n",
              "        text-align: right;\n",
              "    }\n",
              "</style>\n",
              "<table border=\"1\" class=\"dataframe\">\n",
              "  <thead>\n",
              "    <tr style=\"text-align: right;\">\n",
              "      <th></th>\n",
              "      <th>mfcc</th>\n",
              "      <th>Tone</th>\n",
              "    </tr>\n",
              "  </thead>\n",
              "  <tbody>\n",
              "    <tr>\n",
              "      <th>0</th>\n",
              "      <td>[[-310.8796789564301, -340.46618065634357, -35...</td>\n",
              "      <td>2.0</td>\n",
              "    </tr>\n",
              "    <tr>\n",
              "      <th>1</th>\n",
              "      <td>[[-266.5372726841016, -259.1848098190291, -264...</td>\n",
              "      <td>1.0</td>\n",
              "    </tr>\n",
              "    <tr>\n",
              "      <th>2</th>\n",
              "      <td>[[-291.45163988780587, -251.88196659859761, -2...</td>\n",
              "      <td>3.0</td>\n",
              "    </tr>\n",
              "  </tbody>\n",
              "</table>\n",
              "</div>"
            ],
            "text/plain": [
              "                                                mfcc  Tone\n",
              "0  [[-310.8796789564301, -340.46618065634357, -35...   2.0\n",
              "1  [[-266.5372726841016, -259.1848098190291, -264...   1.0\n",
              "2  [[-291.45163988780587, -251.88196659859761, -2...   3.0"
            ]
          },
          "metadata": {
            "tags": []
          },
          "execution_count": 2
        }
      ]
    },
    {
      "cell_type": "markdown",
      "metadata": {
        "id": "cvAaDtJ29Xvn",
        "colab_type": "text"
      },
      "source": [
        "## Data Representation"
      ]
    },
    {
      "cell_type": "markdown",
      "metadata": {
        "id": "2albnOAMjgqb",
        "colab_type": "text"
      },
      "source": [
        "Let's see what our data looks like."
      ]
    },
    {
      "cell_type": "code",
      "metadata": {
        "id": "-viEP0fKjgzb",
        "colab_type": "code",
        "outputId": "b1787df1-d286-48d8-8259-3458d08323d9",
        "colab": {
          "base_uri": "https://localhost:8080/",
          "height": 1411
        }
      },
      "source": [
        "import matplotlib.pyplot as plt\n",
        "from matplotlib import cm\n",
        "import numpy as np\n",
        "\n",
        "def data_peek(x_):\n",
        "  print('The shape is:', x_.shape)\n",
        "  print('An element looks like:\\n', x_[0])\n",
        "  \n",
        "def plot_mfcc(mfcc):\n",
        "  fig, ax = plt.subplots()\n",
        "  cax = ax.imshow(mfcc, interpolation='nearest', cmap=cm.coolwarm,\n",
        "                 origin='lower')\n",
        "  ax.set_title('MFCC')\n",
        "  plt.show()\n",
        "\n",
        "data_peek(df[['mfcc']].values)"
      ],
      "execution_count": 3,
      "outputs": [
        {
          "output_type": "stream",
          "text": [
            "The shape is: (16026, 1)\n",
            "An element looks like:\n",
            " [array([[-3.10879679e+02, -3.40466181e+02, -3.57547799e+02,\n",
            "        -3.37239442e+02],\n",
            "       [ 1.47140835e+02,  1.44148258e+02,  1.57003995e+02,\n",
            "         1.64028318e+02],\n",
            "       [ 6.54336107e+00, -8.34052299e-01, -1.16083192e+01,\n",
            "        -1.28333806e+01],\n",
            "       [ 6.34890104e+01,  6.54637822e+01,  6.88406324e+01,\n",
            "         7.06317975e+01],\n",
            "       [ 1.78298126e+01,  1.67627488e+01,  2.54703132e+01,\n",
            "         3.28208402e+01],\n",
            "       [-1.07758198e+00, -4.72788243e+00, -1.94982063e+01,\n",
            "        -2.90835285e+01],\n",
            "       [ 1.22708489e+01,  1.74007855e+01,  1.66135280e+01,\n",
            "         1.45633625e+01],\n",
            "       [-2.25837740e+01, -1.91953050e+01, -7.87243110e+00,\n",
            "        -1.45858052e+00],\n",
            "       [-2.23698884e+01, -2.17985852e+01, -2.21270462e+01,\n",
            "        -1.92849987e+01],\n",
            "       [-1.01292864e+01, -1.21503618e+01, -2.43503587e+01,\n",
            "        -2.43666225e+01],\n",
            "       [-1.39319800e+01, -8.81153077e+00, -6.88731804e-01,\n",
            "        -1.11509983e+00],\n",
            "       [-1.87968563e-01, -5.24228694e+00, -7.12264838e+00,\n",
            "        -2.35141584e+00],\n",
            "       [-1.18735733e+01, -1.76921051e+01, -2.09264407e+01,\n",
            "        -1.03421701e+01],\n",
            "       [-1.39844510e+00,  3.70568740e+00,  1.06292645e+01,\n",
            "         6.11837226e+00],\n",
            "       [ 2.65904525e+00,  3.54764402e+00,  7.02706040e+00,\n",
            "         1.08865647e+01],\n",
            "       [ 6.65161115e+00,  4.82444141e+00,  1.86823612e+00,\n",
            "         1.32550732e+00],\n",
            "       [-4.50235235e+00, -5.39405112e+00,  6.24751210e-01,\n",
            "         9.05202591e+00],\n",
            "       [ 1.78293910e-01, -2.57123134e+00,  2.32556572e+00,\n",
            "         3.53410759e+00],\n",
            "       [ 2.46695922e+00, -2.10829865e+00, -1.82765983e+01,\n",
            "        -2.57931662e+01],\n",
            "       [-3.76859267e-01,  5.87478160e-01, -4.47043136e-01,\n",
            "         5.90354227e-01],\n",
            "       [-6.91354547e+00, -2.22737289e+00, -4.94668383e+00,\n",
            "        -5.96327505e+00],\n",
            "       [ 1.42660289e+00,  2.98797931e+00, -3.88964132e+00,\n",
            "        -5.50222850e+00],\n",
            "       [ 8.43423630e+00,  7.32389352e+00, -2.61855269e+00,\n",
            "         5.58633076e-01],\n",
            "       [ 6.00023364e+00,  7.81847421e+00, -4.29886860e-01,\n",
            "        -4.36098457e+00],\n",
            "       [ 1.68290415e+01,  1.37277806e+01,  9.16221320e+00,\n",
            "         9.28424464e+00],\n",
            "       [ 4.99928422e+00,  6.10592153e+00,  1.71729020e+01,\n",
            "         1.93810457e+01],\n",
            "       [ 4.56202293e+00,  4.18810610e+00,  5.33099661e+00,\n",
            "         3.39372906e+00],\n",
            "       [ 2.87875464e+00,  2.75346133e+00,  4.28316184e+00,\n",
            "         2.21993308e+00],\n",
            "       [-8.86963265e+00, -5.91956839e+00, -6.37679745e-01,\n",
            "         8.22556558e-01],\n",
            "       [-1.09968515e+01, -6.71357214e+00, -2.58387859e+00,\n",
            "        -2.21672960e+00],\n",
            "       [-6.14868845e+00, -7.01949111e+00, -5.84394656e+00,\n",
            "        -5.14930201e+00],\n",
            "       [ 1.65060395e+00,  1.43391088e+00,  4.91197082e-01,\n",
            "        -9.20410842e-01],\n",
            "       [-7.50437244e+00, -1.06804582e+01, -1.33777448e+01,\n",
            "        -8.81753494e+00],\n",
            "       [-1.42371880e+00,  2.68243852e+00,  2.53517766e+00,\n",
            "         3.34885915e-01],\n",
            "       [-8.09764295e+00, -8.02784375e+00, -9.57412394e+00,\n",
            "        -8.95606777e+00],\n",
            "       [ 2.99143967e+00,  6.05062091e+00,  6.63710326e+00,\n",
            "         4.69204749e+00],\n",
            "       [ 1.65306972e+00, -1.34405910e+00, -6.67112163e+00,\n",
            "        -9.17047381e+00],\n",
            "       [ 2.57727378e+00,  1.53993865e+00, -2.81294250e+00,\n",
            "        -6.35821337e+00],\n",
            "       [-1.06378845e+01, -9.21131480e+00, -1.12040162e+01,\n",
            "        -1.21549025e+01],\n",
            "       [ 2.34383570e+00,  5.12753642e+00,  6.55445454e+00,\n",
            "         5.05333125e+00]])]\n"
          ],
          "name": "stdout"
        }
      ]
    },
    {
      "cell_type": "code",
      "metadata": {
        "id": "IvL9rSaR_av3",
        "colab_type": "code",
        "outputId": "f0d9cee7-0920-467d-faa9-7554d21319cd",
        "colab": {
          "base_uri": "https://localhost:8080/",
          "height": 68
        }
      },
      "source": [
        "data_peek(df[['Tone']].values)"
      ],
      "execution_count": 4,
      "outputs": [
        {
          "output_type": "stream",
          "text": [
            "The shape is: (16026, 1)\n",
            "An element looks like:\n",
            " [2.]\n"
          ],
          "name": "stdout"
        }
      ]
    },
    {
      "cell_type": "markdown",
      "metadata": {
        "id": "odm4NFVYe-v7",
        "colab_type": "text"
      },
      "source": [
        "Let's visualize our data."
      ]
    },
    {
      "cell_type": "code",
      "metadata": {
        "id": "Fpdqsq7hgyPt",
        "colab_type": "code",
        "outputId": "28c612ac-ef43-4123-d550-61b6d9f738bc",
        "colab": {
          "base_uri": "https://localhost:8080/",
          "height": 281
        }
      },
      "source": [
        "plot_mfcc(df['mfcc'].iloc[0])"
      ],
      "execution_count": 5,
      "outputs": [
        {
          "output_type": "display_data",
          "data": {
            "image/png": "[encoded data removed]",
            "text/plain": [
              "<Figure size 432x288 with 1 Axes>"
            ]
          },
          "metadata": {
            "tags": []
          }
        }
      ]
    },
    {
      "cell_type": "markdown",
      "metadata": {
        "id": "pJ203fVU6wF4",
        "colab_type": "text"
      },
      "source": [
        "# Pre-processing"
      ]
    },
    {
      "cell_type": "markdown",
      "metadata": {
        "id": "mQaCC6_uNonY",
        "colab_type": "text"
      },
      "source": [
        ""
      ]
    },
    {
      "cell_type": "code",
      "metadata": {
        "id": "eD_oKZrXNouP",
        "colab_type": "code",
        "colab": {
          "base_uri": "https://localhost:8080/",
          "height": 1428
        },
        "outputId": "1a307123-82c1-4919-dab4-22206ecfdbc9"
      },
      "source": [
        "from keras.utils import to_categorical\n",
        "\n",
        "def preprocess():\n",
        "  # Load the data into memory\n",
        "  df = load_data()\n",
        "  df['mfcc'] = df['mfcc'].apply(lambda i: i.reshape(40, -1))\n",
        "  \n",
        "  ''' Convert tone categorization to a one-hot categorization '''\n",
        "  # Subtract 1 so that classification aligns with index\n",
        "  df['Tone'] = df['Tone'].apply(lambda i: int(i - 1))\n",
        "  # \n",
        "  df['Tone'] = df['Tone'].apply(lambda i: to_categorical(i, num_classes=4))\n",
        "  \n",
        "  return df\n",
        "\n",
        "df = preprocess()\n",
        "data_peek(df[['mfcc']].values)  "
      ],
      "execution_count": 6,
      "outputs": [
        {
          "output_type": "stream",
          "text": [
            "Using TensorFlow backend.\n"
          ],
          "name": "stderr"
        },
        {
          "output_type": "stream",
          "text": [
            "The shape is: (16026, 1)\n",
            "An element looks like:\n",
            " [array([[-3.10879679e+02, -3.40466181e+02, -3.57547799e+02,\n",
            "        -3.37239442e+02],\n",
            "       [ 1.47140835e+02,  1.44148258e+02,  1.57003995e+02,\n",
            "         1.64028318e+02],\n",
            "       [ 6.54336107e+00, -8.34052299e-01, -1.16083192e+01,\n",
            "        -1.28333806e+01],\n",
            "       [ 6.34890104e+01,  6.54637822e+01,  6.88406324e+01,\n",
            "         7.06317975e+01],\n",
            "       [ 1.78298126e+01,  1.67627488e+01,  2.54703132e+01,\n",
            "         3.28208402e+01],\n",
            "       [-1.07758198e+00, -4.72788243e+00, -1.94982063e+01,\n",
            "        -2.90835285e+01],\n",
            "       [ 1.22708489e+01,  1.74007855e+01,  1.66135280e+01,\n",
            "         1.45633625e+01],\n",
            "       [-2.25837740e+01, -1.91953050e+01, -7.87243110e+00,\n",
            "        -1.45858052e+00],\n",
            "       [-2.23698884e+01, -2.17985852e+01, -2.21270462e+01,\n",
            "        -1.92849987e+01],\n",
            "       [-1.01292864e+01, -1.21503618e+01, -2.43503587e+01,\n",
            "        -2.43666225e+01],\n",
            "       [-1.39319800e+01, -8.81153077e+00, -6.88731804e-01,\n",
            "        -1.11509983e+00],\n",
            "       [-1.87968563e-01, -5.24228694e+00, -7.12264838e+00,\n",
            "        -2.35141584e+00],\n",
            "       [-1.18735733e+01, -1.76921051e+01, -2.09264407e+01,\n",
            "        -1.03421701e+01],\n",
            "       [-1.39844510e+00,  3.70568740e+00,  1.06292645e+01,\n",
            "         6.11837226e+00],\n",
            "       [ 2.65904525e+00,  3.54764402e+00,  7.02706040e+00,\n",
            "         1.08865647e+01],\n",
            "       [ 6.65161115e+00,  4.82444141e+00,  1.86823612e+00,\n",
            "         1.32550732e+00],\n",
            "       [-4.50235235e+00, -5.39405112e+00,  6.24751210e-01,\n",
            "         9.05202591e+00],\n",
            "       [ 1.78293910e-01, -2.57123134e+00,  2.32556572e+00,\n",
            "         3.53410759e+00],\n",
            "       [ 2.46695922e+00, -2.10829865e+00, -1.82765983e+01,\n",
            "        -2.57931662e+01],\n",
            "       [-3.76859267e-01,  5.87478160e-01, -4.47043136e-01,\n",
            "         5.90354227e-01],\n",
            "       [-6.91354547e+00, -2.22737289e+00, -4.94668383e+00,\n",
            "        -5.96327505e+00],\n",
            "       [ 1.42660289e+00,  2.98797931e+00, -3.88964132e+00,\n",
            "        -5.50222850e+00],\n",
            "       [ 8.43423630e+00,  7.32389352e+00, -2.61855269e+00,\n",
            "         5.58633076e-01],\n",
            "       [ 6.00023364e+00,  7.81847421e+00, -4.29886860e-01,\n",
            "        -4.36098457e+00],\n",
            "       [ 1.68290415e+01,  1.37277806e+01,  9.16221320e+00,\n",
            "         9.28424464e+00],\n",
            "       [ 4.99928422e+00,  6.10592153e+00,  1.71729020e+01,\n",
            "         1.93810457e+01],\n",
            "       [ 4.56202293e+00,  4.18810610e+00,  5.33099661e+00,\n",
            "         3.39372906e+00],\n",
            "       [ 2.87875464e+00,  2.75346133e+00,  4.28316184e+00,\n",
            "         2.21993308e+00],\n",
            "       [-8.86963265e+00, -5.91956839e+00, -6.37679745e-01,\n",
            "         8.22556558e-01],\n",
            "       [-1.09968515e+01, -6.71357214e+00, -2.58387859e+00,\n",
            "        -2.21672960e+00],\n",
            "       [-6.14868845e+00, -7.01949111e+00, -5.84394656e+00,\n",
            "        -5.14930201e+00],\n",
            "       [ 1.65060395e+00,  1.43391088e+00,  4.91197082e-01,\n",
            "        -9.20410842e-01],\n",
            "       [-7.50437244e+00, -1.06804582e+01, -1.33777448e+01,\n",
            "        -8.81753494e+00],\n",
            "       [-1.42371880e+00,  2.68243852e+00,  2.53517766e+00,\n",
            "         3.34885915e-01],\n",
            "       [-8.09764295e+00, -8.02784375e+00, -9.57412394e+00,\n",
            "        -8.95606777e+00],\n",
            "       [ 2.99143967e+00,  6.05062091e+00,  6.63710326e+00,\n",
            "         4.69204749e+00],\n",
            "       [ 1.65306972e+00, -1.34405910e+00, -6.67112163e+00,\n",
            "        -9.17047381e+00],\n",
            "       [ 2.57727378e+00,  1.53993865e+00, -2.81294250e+00,\n",
            "        -6.35821337e+00],\n",
            "       [-1.06378845e+01, -9.21131480e+00, -1.12040162e+01,\n",
            "        -1.21549025e+01],\n",
            "       [ 2.34383570e+00,  5.12753642e+00,  6.55445454e+00,\n",
            "         5.05333125e+00]])]\n"
          ],
          "name": "stdout"
        }
      ]
    },
    {
      "cell_type": "markdown",
      "metadata": {
        "id": "2KSFejMrKt1J",
        "colab_type": "text"
      },
      "source": [
        "Let's fetch our values"
      ]
    },
    {
      "cell_type": "code",
      "metadata": {
        "id": "a15vh4NTLQXF",
        "colab_type": "code",
        "colab": {
          "base_uri": "https://localhost:8080/",
          "height": 1462
        },
        "outputId": "adb61fc3-07c7-4b40-f78a-1268d4150ca9"
      },
      "source": [
        "def fetch_xy(df):\n",
        "  x = np.array(np.array(df[['mfcc']].values))\n",
        "  y = np.array([np.array(i[0]).reshape(4) for i in df[['Tone']].values])\n",
        "  \n",
        "  return x, y\n",
        "\n",
        "x, y = fetch_xy(df)\n",
        "data_peek(x)\n",
        "data_peek(y)"
      ],
      "execution_count": 7,
      "outputs": [
        {
          "output_type": "stream",
          "text": [
            "The shape is: (16026, 1)\n",
            "An element looks like:\n",
            " [array([[-3.10879679e+02, -3.40466181e+02, -3.57547799e+02,\n",
            "        -3.37239442e+02],\n",
            "       [ 1.47140835e+02,  1.44148258e+02,  1.57003995e+02,\n",
            "         1.64028318e+02],\n",
            "       [ 6.54336107e+00, -8.34052299e-01, -1.16083192e+01,\n",
            "        -1.28333806e+01],\n",
            "       [ 6.34890104e+01,  6.54637822e+01,  6.88406324e+01,\n",
            "         7.06317975e+01],\n",
            "       [ 1.78298126e+01,  1.67627488e+01,  2.54703132e+01,\n",
            "         3.28208402e+01],\n",
            "       [-1.07758198e+00, -4.72788243e+00, -1.94982063e+01,\n",
            "        -2.90835285e+01],\n",
            "       [ 1.22708489e+01,  1.74007855e+01,  1.66135280e+01,\n",
            "         1.45633625e+01],\n",
            "       [-2.25837740e+01, -1.91953050e+01, -7.87243110e+00,\n",
            "        -1.45858052e+00],\n",
            "       [-2.23698884e+01, -2.17985852e+01, -2.21270462e+01,\n",
            "        -1.92849987e+01],\n",
            "       [-1.01292864e+01, -1.21503618e+01, -2.43503587e+01,\n",
            "        -2.43666225e+01],\n",
            "       [-1.39319800e+01, -8.81153077e+00, -6.88731804e-01,\n",
            "        -1.11509983e+00],\n",
            "       [-1.87968563e-01, -5.24228694e+00, -7.12264838e+00,\n",
            "        -2.35141584e+00],\n",
            "       [-1.18735733e+01, -1.76921051e+01, -2.09264407e+01,\n",
            "        -1.03421701e+01],\n",
            "       [-1.39844510e+00,  3.70568740e+00,  1.06292645e+01,\n",
            "         6.11837226e+00],\n",
            "       [ 2.65904525e+00,  3.54764402e+00,  7.02706040e+00,\n",
            "         1.08865647e+01],\n",
            "       [ 6.65161115e+00,  4.82444141e+00,  1.86823612e+00,\n",
            "         1.32550732e+00],\n",
            "       [-4.50235235e+00, -5.39405112e+00,  6.24751210e-01,\n",
            "         9.05202591e+00],\n",
            "       [ 1.78293910e-01, -2.57123134e+00,  2.32556572e+00,\n",
            "         3.53410759e+00],\n",
            "       [ 2.46695922e+00, -2.10829865e+00, -1.82765983e+01,\n",
            "        -2.57931662e+01],\n",
            "       [-3.76859267e-01,  5.87478160e-01, -4.47043136e-01,\n",
            "         5.90354227e-01],\n",
            "       [-6.91354547e+00, -2.22737289e+00, -4.94668383e+00,\n",
            "        -5.96327505e+00],\n",
            "       [ 1.42660289e+00,  2.98797931e+00, -3.88964132e+00,\n",
            "        -5.50222850e+00],\n",
            "       [ 8.43423630e+00,  7.32389352e+00, -2.61855269e+00,\n",
            "         5.58633076e-01],\n",
            "       [ 6.00023364e+00,  7.81847421e+00, -4.29886860e-01,\n",
            "        -4.36098457e+00],\n",
            "       [ 1.68290415e+01,  1.37277806e+01,  9.16221320e+00,\n",
            "         9.28424464e+00],\n",
            "       [ 4.99928422e+00,  6.10592153e+00,  1.71729020e+01,\n",
            "         1.93810457e+01],\n",
            "       [ 4.56202293e+00,  4.18810610e+00,  5.33099661e+00,\n",
            "         3.39372906e+00],\n",
            "       [ 2.87875464e+00,  2.75346133e+00,  4.28316184e+00,\n",
            "         2.21993308e+00],\n",
            "       [-8.86963265e+00, -5.91956839e+00, -6.37679745e-01,\n",
            "         8.22556558e-01],\n",
            "       [-1.09968515e+01, -6.71357214e+00, -2.58387859e+00,\n",
            "        -2.21672960e+00],\n",
            "       [-6.14868845e+00, -7.01949111e+00, -5.84394656e+00,\n",
            "        -5.14930201e+00],\n",
            "       [ 1.65060395e+00,  1.43391088e+00,  4.91197082e-01,\n",
            "        -9.20410842e-01],\n",
            "       [-7.50437244e+00, -1.06804582e+01, -1.33777448e+01,\n",
            "        -8.81753494e+00],\n",
            "       [-1.42371880e+00,  2.68243852e+00,  2.53517766e+00,\n",
            "         3.34885915e-01],\n",
            "       [-8.09764295e+00, -8.02784375e+00, -9.57412394e+00,\n",
            "        -8.95606777e+00],\n",
            "       [ 2.99143967e+00,  6.05062091e+00,  6.63710326e+00,\n",
            "         4.69204749e+00],\n",
            "       [ 1.65306972e+00, -1.34405910e+00, -6.67112163e+00,\n",
            "        -9.17047381e+00],\n",
            "       [ 2.57727378e+00,  1.53993865e+00, -2.81294250e+00,\n",
            "        -6.35821337e+00],\n",
            "       [-1.06378845e+01, -9.21131480e+00, -1.12040162e+01,\n",
            "        -1.21549025e+01],\n",
            "       [ 2.34383570e+00,  5.12753642e+00,  6.55445454e+00,\n",
            "         5.05333125e+00]])]\n",
            "The shape is: (16026, 4)\n",
            "An element looks like:\n",
            " [0. 1. 0. 0.]\n"
          ],
          "name": "stdout"
        }
      ]
    },
    {
      "cell_type": "markdown",
      "metadata": {
        "id": "TFC2-MHFpVCK",
        "colab_type": "text"
      },
      "source": [
        "We need to reshape the MFCC "
      ]
    },
    {
      "cell_type": "code",
      "metadata": {
        "id": "KxKz_0alp_V2",
        "colab_type": "code",
        "outputId": "d5d570b0-be84-4614-c324-da5f1bba4c2a",
        "colab": {
          "base_uri": "https://localhost:8080/",
          "height": 51
        }
      },
      "source": [
        "x = [i[0].reshape(1, 40, -1) for i in x]\n",
        "\n",
        "min_size = min([i.shape for i in x])\n",
        "max_size = max([i.shape for i in x])\n",
        "print('Min sample size:', min_size)\n",
        "print('Max sample size:', max_size)"
      ],
      "execution_count": 8,
      "outputs": [
        {
          "output_type": "stream",
          "text": [
            "Min sample size: (1, 40, 2)\n",
            "Max sample size: (1, 40, 30)\n"
          ],
          "name": "stdout"
        }
      ]
    },
    {
      "cell_type": "markdown",
      "metadata": {
        "id": "NpddAuiCrrOY",
        "colab_type": "text"
      },
      "source": [
        "We need the lengths of each MFCC to be the same. This function will pad each until they are all the same size as the largest sample in the dataset."
      ]
    },
    {
      "cell_type": "code",
      "metadata": {
        "id": "70Cn5-Jur23u",
        "colab_type": "code",
        "outputId": "138ae634-68f8-47ce-c6f1-02cde97d6f64",
        "colab": {
          "base_uri": "https://localhost:8080/",
          "height": 272
        }
      },
      "source": [
        "def pad_mfcc(x_, size):\n",
        "  result = np.zeros(size)\n",
        "  result[:x_.shape[0],:x_.shape[1], :x_.shape[2]] = x_\n",
        "  return result\n",
        "\n",
        "x = [pad_mfcc(i, max_size) for i in x]\n",
        "x = np.array(x)\n",
        "\n",
        "data_peek(x)"
      ],
      "execution_count": 9,
      "outputs": [
        {
          "output_type": "stream",
          "text": [
            "The shape is: (16026, 1, 40, 30)\n",
            "An element looks like:\n",
            " [[[-310.87967896 -340.46618066 -357.54779874 ...    0.\n",
            "      0.            0.        ]\n",
            "  [ 147.14083516  144.14825793  157.00399538 ...    0.\n",
            "      0.            0.        ]\n",
            "  [   6.54336107   -0.8340523   -11.60831919 ...    0.\n",
            "      0.            0.        ]\n",
            "  ...\n",
            "  [   2.57727378    1.53993865   -2.8129425  ...    0.\n",
            "      0.            0.        ]\n",
            "  [ -10.63788455   -9.2113148   -11.20401621 ...    0.\n",
            "      0.            0.        ]\n",
            "  [   2.3438357     5.12753642    6.55445454 ...    0.\n",
            "      0.            0.        ]]]\n"
          ],
          "name": "stdout"
        }
      ]
    },
    {
      "cell_type": "markdown",
      "metadata": {
        "id": "benqq5h25YWe",
        "colab_type": "text"
      },
      "source": [
        "Now let's pre-process our labels. "
      ]
    },
    {
      "cell_type": "code",
      "metadata": {
        "id": "r3U3oAaJ4LEi",
        "colab_type": "code",
        "outputId": "cef5f62a-010e-4fd8-af86-632dcf78b5bb",
        "colab": {
          "base_uri": "https://localhost:8080/",
          "height": 68
        }
      },
      "source": [
        "data_peek(y)"
      ],
      "execution_count": 10,
      "outputs": [
        {
          "output_type": "stream",
          "text": [
            "The shape is: (16026, 4)\n",
            "An element looks like:\n",
            " [0. 1. 0. 0.]\n"
          ],
          "name": "stdout"
        }
      ]
    },
    {
      "cell_type": "code",
      "metadata": {
        "id": "QKY8yKvrwYs7",
        "colab_type": "code",
        "outputId": "a6ca8d2e-8c95-4870-843a-68d8e171fb81",
        "colab": {
          "base_uri": "https://localhost:8080/",
          "height": 323
        }
      },
      "source": [
        "from sklearn.model_selection import train_test_split\n",
        "\n",
        "xTrain, xTest, yTrain, yTest = train_test_split(x, y, test_size=0.2, \n",
        "                                                random_state=502)\n",
        "data_peek(xTrain)\n",
        "data_peek(yTrain)"
      ],
      "execution_count": 20,
      "outputs": [
        {
          "output_type": "stream",
          "text": [
            "The shape is: (12820, 1, 40, 30)\n",
            "An element looks like:\n",
            " [[[-310.7386427  -284.72220936 -299.21057504 ...    0.\n",
            "      0.            0.        ]\n",
            "  [ 152.35789553  171.2332157   180.4695477  ...    0.\n",
            "      0.            0.        ]\n",
            "  [ -39.45548486  -45.54806333  -43.26040024 ...    0.\n",
            "      0.            0.        ]\n",
            "  ...\n",
            "  [   2.53544713    2.24401134    0.52120567 ...    0.\n",
            "      0.            0.        ]\n",
            "  [  -4.04034943   -2.47248425    1.07673535 ...    0.\n",
            "      0.            0.        ]\n",
            "  [   3.61585894    3.44456431    4.03078513 ...    0.\n",
            "      0.            0.        ]]]\n",
            "The shape is: (12820, 4)\n",
            "An element looks like:\n",
            " [0. 0. 0. 1.]\n"
          ],
          "name": "stdout"
        }
      ]
    },
    {
      "cell_type": "code",
      "metadata": {
        "id": "I7LUwUOMy-iS",
        "colab_type": "code",
        "outputId": "1d9f6f13-1c66-4963-c0f8-3cade69b4c18",
        "colab": {
          "base_uri": "https://localhost:8080/",
          "height": 272
        }
      },
      "source": [
        "from sklearn import preprocessing\n",
        "\n",
        "xTrain = np.array([preprocessing.scale(i.reshape(40, 30)) for i in xTrain]).reshape(-1, 1, 40, 30)\n",
        "xTest = np.array([preprocessing.scale(i.reshape(40, 30)) for i in xTest]).reshape(-1, 1, 40, 30)\n",
        "data_peek(xTrain)"
      ],
      "execution_count": 22,
      "outputs": [
        {
          "output_type": "stream",
          "text": [
            "The shape is: (12820, 1, 40, 30)\n",
            "An element looks like:\n",
            " [[[-5.54647868e+00 -5.28417261e+00 -5.27644384e+00 ...  0.00000000e+00\n",
            "    0.00000000e+00  0.00000000e+00]\n",
            "  [ 2.82761362e+00  3.26261063e+00  3.25772187e+00 ...  0.00000000e+00\n",
            "    0.00000000e+00  0.00000000e+00]\n",
            "  [-6.40913606e-01 -8.00906329e-01 -7.22740026e-01 ...  0.00000000e+00\n",
            "    0.00000000e+00  0.00000000e+00]\n",
            "  ...\n",
            "  [ 1.18400945e-01  9.49455017e-02  5.61946481e-02 ...  0.00000000e+00\n",
            "    0.00000000e+00  0.00000000e+00]\n",
            "  [-5.08013888e-04  6.53583878e-03  6.60782812e-02 ...  0.00000000e+00\n",
            "    0.00000000e+00  0.00000000e+00]\n",
            "  [ 1.37937840e-01  1.17449601e-01  1.18634869e-01 ...  0.00000000e+00\n",
            "    0.00000000e+00  0.00000000e+00]]]\n"
          ],
          "name": "stdout"
        }
      ]
    },
    {
      "cell_type": "code",
      "metadata": {
        "id": "fZAUrAjt0SvR",
        "colab_type": "code",
        "colab": {}
      },
      "source": [
        "from keras.models import Sequential\n",
        "from keras.optimizers import SGD, RMSprop, Adadelta\n",
        "from keras.layers import Dense, Dropout, Activation\n",
        "from keras.layers import Flatten, Conv2D, MaxPooling2D\n",
        "from keras.regularizers import l1, l2\n",
        "import matplotlib.pyplot as plt"
      ],
      "execution_count": 0,
      "outputs": []
    },
    {
      "cell_type": "code",
      "metadata": {
        "id": "fqXH3wjz0YuI",
        "colab_type": "code",
        "colab": {}
      },
      "source": [
        "def plot_model(history):\n",
        "  plt.plot(history.history['acc'])\n",
        "  plt.plot(history.history['val_acc'])\n",
        "  plt.title('Model Accuracy')\n",
        "  plt.ylabel('Accuracy')\n",
        "  plt.xlabel('Epoch')\n",
        "  plt.legend(['Train', 'Test'], loc='upper left')\n",
        "  plt.show()\n",
        "  \n",
        "  plt.plot(history.history['loss'])\n",
        "  plt.plot(history.history['val_loss'])\n",
        "  plt.title('Model Loss')\n",
        "  plt.ylabel('Loss')\n",
        "  plt.xlabel('Epoch')\n",
        "  plt.legend(['Train', 'Test'], loc='upper left')\n",
        "  plt.show()"
      ],
      "execution_count": 0,
      "outputs": []
    },
    {
      "cell_type": "code",
      "metadata": {
        "id": "gLuFe8UB0tPP",
        "colab_type": "code",
        "outputId": "6c3ca035-5f62-40d7-f6bc-2adface047da",
        "colab": {
          "base_uri": "https://localhost:8080/",
          "height": 197
        }
      },
      "source": [
        "def cnn(x_train, x_test, y_train, y_test):\n",
        "  model = Sequential()\n",
        "  model.add(Conv2D(64, (3, 3),\n",
        "                  input_shape=x_train.shape[1:],\n",
        "                  dim_ordering='th')) #, activity_regularizer=l2(0.0001)))\n",
        "  model.add(Activation('relu'))\n",
        "  model.add(Conv2D(32, (5, 5))) #, activity_regularizer=l2(0.0001)))\n",
        "  model.add(Activation('relu'))\n",
        "  model.add(MaxPooling2D(pool_size=(2, 2)))\n",
        "  # model.add(Dropout(0.25))\n",
        "  \n",
        "  model.add(Conv2D(32, (5, 5))) #, activity_regularizer=l2(0.0001)))\n",
        "  model.add(Activation('relu'))\n",
        "  model.add(MaxPooling2D(pool_size=(2, 2)))\n",
        "  # model.add(Dropout(0.25))\n",
        "  \n",
        "  model.add(Flatten())\n",
        "  model.add(Dense(128, activation='relu')) # , activity_regularizer=l2(0.0001)))\n",
        "  # model.add(Dropout(0.25))\n",
        "  model.add(Dense(4, activation='softmax',\n",
        "                 bias_regularizer=l2(0.00001)))\n",
        "  \n",
        "  # optimizer = SGD(lr=1e-1, momentum=1e-2, decay=1e-6)\n",
        "  # optimizer = RMSprop(lr=0.00001, decay=1e-8)\n",
        "  optimizer = Adadelta()\n",
        "\n",
        "  model.compile(loss='categorical_crossentropy',\n",
        "              optimizer=optimizer,\n",
        "              metrics=['accuracy'])\n",
        "\n",
        "  model_history = model.fit(x_train, y_train,\n",
        "           epochs=200,\n",
        "         batch_size=128, verbose=1, validation_split=0.2)\n",
        "  score = model.evaluate(x_test, y_test, batch_size=128)\n",
        "  print('Model accuracy is:', score[1])\n",
        "\n",
        "  plot_model(model_history)\n",
        "  return model_history\n",
        " \n",
        "cnn(xTrain, xTest, yTrain, yTest)"
      ],
      "execution_count": 1,
      "outputs": [
        {
          "output_type": "error",
          "ename": "NameError",
          "evalue": "ignored",
          "traceback": [
            "\u001b[0;31m---------------------------------------------------------------------------\u001b[0m",
            "\u001b[0;31mNameError\u001b[0m                                 Traceback (most recent call last)",
            "\u001b[0;32m<ipython-input-1-701b9843f9d0>\u001b[0m in \u001b[0;36m<module>\u001b[0;34m()\u001b[0m\n\u001b[1;32m     38\u001b[0m   \u001b[0;32mreturn\u001b[0m \u001b[0mmodel_history\u001b[0m\u001b[0;34m\u001b[0m\u001b[0;34m\u001b[0m\u001b[0m\n\u001b[1;32m     39\u001b[0m \u001b[0;34m\u001b[0m\u001b[0m\n\u001b[0;32m---> 40\u001b[0;31m \u001b[0mcnn\u001b[0m\u001b[0;34m(\u001b[0m\u001b[0mxTrain\u001b[0m\u001b[0;34m,\u001b[0m \u001b[0mxTest\u001b[0m\u001b[0;34m,\u001b[0m \u001b[0myTrain\u001b[0m\u001b[0;34m,\u001b[0m \u001b[0myTest\u001b[0m\u001b[0;34m)\u001b[0m\u001b[0;34m\u001b[0m\u001b[0;34m\u001b[0m\u001b[0m\n\u001b[0m",
            "\u001b[0;31mNameError\u001b[0m: name 'xTrain' is not defined"
          ]
        }
      ]
    },
    {
      "cell_type": "code",
      "metadata": {
        "id": "EwG1Z1nP0os-",
        "colab_type": "code",
        "colab": {}
      },
      "source": [
        "import os\n",
        "import tensorflow as tf\n",
        "\n",
        "TPU_WORKER = 'grpc://' + os.environ['COLAB_TPU_ADDR']\n",
        "tf.logging.set_verbosity(tf.logging.INFO)\n",
        "\n",
        "tpu_model = tf.contrib.tpu.keras_to_tpu_model(\n",
        "    cnn,\n",
        "    strategy = tf.contrib.tpu.TPUDistributionStrategy(\n",
        "        tf.contrib.cluster_resolver.TPUClusterResolver(TPU_WORKER)))"
      ],
      "execution_count": 0,
      "outputs": []
    }
  ]
}