{
  "nbformat": 4,
  "nbformat_minor": 0,
  "metadata": {
    "colab": {
      "name": "mfcc.ipynb",
      "version": "0.3.2",
      "provenance": []
    },
    "kernelspec": {
      "name": "python3",
      "display_name": "Python 3"
    }
  },
  "cells": [
    {
      "cell_type": "markdown",
      "metadata": {
        "id": "DMqj1UL06Ent",
        "colab_type": "text"
      },
      "source": [
        "# Convolutional Neural Networks for Mandarin Tone Classification using Mel-Frequency Cepstral Coefficients\n",
        "\n",
        "Jeramey Tyler tylerj2@rpi.edu\n",
        "\n",
        "\n",
        "---\n",
        "\n"
      ]
    },
    {
      "cell_type": "markdown",
      "metadata": {
        "id": "Npb11CHc6vnM",
        "colab_type": "text"
      },
      "source": [
        "# Introduction"
      ]
    },
    {
      "cell_type": "markdown",
      "metadata": {
        "id": "bxh0CviH7XmV",
        "colab_type": "text"
      },
      "source": [
        "In a tonal language, semantic information is conveyed through the pronunication of the a spoken word. This adds an dimension of complexity to automatic speech recognition tasks (ASR) involving tonal languages. In this notebook I demonstrate classifying Mandarin tones using a convolutional neural network trained on the Mel-frequency cepstral coefficients (MFCC) representation of spoken Mandarin phonemes."
      ]
    },
    {
      "cell_type": "markdown",
      "metadata": {
        "id": "BcwCOcvb6v3H",
        "colab_type": "text"
      },
      "source": [
        "# Data"
      ]
    },
    {
      "cell_type": "markdown",
      "metadata": {
        "id": "pHaxvknT9U1t",
        "colab_type": "text"
      },
      "source": [
        "## Data Loading"
      ]
    },
    {
      "cell_type": "markdown",
      "metadata": {
        "id": "6QVpz_wrTToN",
        "colab_type": "text"
      },
      "source": [
        "The data for this experiment is stored at [this](https://github.com/JerameyATyler/Mandarin_data) GitHub repository. The code below will clone the repository."
      ]
    },
    {
      "cell_type": "code",
      "metadata": {
        "id": "MIz_MpVxTS0q",
        "colab_type": "code",
        "outputId": "b5ef63c8-0277-4866-d017-fd3bc9b02bb9",
        "colab": {
          "base_uri": "https://localhost:8080/",
          "height": 54
        }
      },
      "source": [
        "!git clone https://github.com/JerameyATyler/Mandarin_data.git"
      ],
      "execution_count": 0,
      "outputs": [
        {
          "output_type": "stream",
          "text": [
            "fatal: destination path 'Mandarin_data' already exists and is not an empty directory.\n"
          ],
          "name": "stdout"
        }
      ]
    },
    {
      "cell_type": "markdown",
      "metadata": {
        "id": "R1YYbpDPe5qc",
        "colab_type": "text"
      },
      "source": [
        "Read data into a Pandas Dataframe."
      ]
    },
    {
      "cell_type": "code",
      "metadata": {
        "id": "AniJV2kreXyg",
        "colab_type": "code",
        "outputId": "a2f7b1fd-11b3-433b-b368-f8bc05605f8c",
        "colab": {
          "base_uri": "https://localhost:8080/",
          "height": 142
        }
      },
      "source": [
        "import pandas as pd\n",
        "\n",
        "def load_data():\n",
        "  df = pd.read_pickle('Mandarin_data/mfcc_small.pkl', compression=None)\n",
        "  \n",
        "  return df\n",
        "\n",
        "df = load_data()\n",
        "df.head(3)"
      ],
      "execution_count": 0,
      "outputs": [
        {
          "output_type": "execute_result",
          "data": {
            "text/html": [
              "<div>\n",
              "<style scoped>\n",
              "    .dataframe tbody tr th:only-of-type {\n",
              "        vertical-align: middle;\n",
              "    }\n",
              "\n",
              "    .dataframe tbody tr th {\n",
              "        vertical-align: top;\n",
              "    }\n",
              "\n",
              "    .dataframe thead th {\n",
              "        text-align: right;\n",
              "    }\n",
              "</style>\n",
              "<table border=\"1\" class=\"dataframe\">\n",
              "  <thead>\n",
              "    <tr style=\"text-align: right;\">\n",
              "      <th></th>\n",
              "      <th>mfcc</th>\n",
              "      <th>Tone</th>\n",
              "    </tr>\n",
              "  </thead>\n",
              "  <tbody>\n",
              "    <tr>\n",
              "      <th>0</th>\n",
              "      <td>[[-310.8796789564301, -340.46618065634357, -35...</td>\n",
              "      <td>2.0</td>\n",
              "    </tr>\n",
              "    <tr>\n",
              "      <th>1</th>\n",
              "      <td>[[-266.5372726841016, -259.1848098190291, -264...</td>\n",
              "      <td>1.0</td>\n",
              "    </tr>\n",
              "    <tr>\n",
              "      <th>2</th>\n",
              "      <td>[[-291.45163988780587, -251.88196659859761, -2...</td>\n",
              "      <td>3.0</td>\n",
              "    </tr>\n",
              "  </tbody>\n",
              "</table>\n",
              "</div>"
            ],
            "text/plain": [
              "                                                mfcc  Tone\n",
              "0  [[-310.8796789564301, -340.46618065634357, -35...   2.0\n",
              "1  [[-266.5372726841016, -259.1848098190291, -264...   1.0\n",
              "2  [[-291.45163988780587, -251.88196659859761, -2...   3.0"
            ]
          },
          "metadata": {
            "tags": []
          },
          "execution_count": 1
        }
      ]
    },
    {
      "cell_type": "markdown",
      "metadata": {
        "id": "cvAaDtJ29Xvn",
        "colab_type": "text"
      },
      "source": [
        "## Data Representation"
      ]
    },
    {
      "cell_type": "code",
      "metadata": {
        "id": "FAZJjwhR-4yF",
        "colab_type": "code",
        "colab": {}
      },
      "source": [
        "import matplotlib.pyplot as plt\n",
        "from matplotlib import cm\n",
        "import numpy as np"
      ],
      "execution_count": 0,
      "outputs": []
    },
    {
      "cell_type": "markdown",
      "metadata": {
        "id": "2albnOAMjgqb",
        "colab_type": "text"
      },
      "source": [
        "Let's see what our data looks like."
      ]
    },
    {
      "cell_type": "code",
      "metadata": {
        "id": "-viEP0fKjgzb",
        "colab_type": "code",
        "outputId": "3e923bef-a9be-4c58-8407-58a0499dbf3e",
        "colab": {
          "base_uri": "https://localhost:8080/",
          "height": 68
        }
      },
      "source": [
        "def data_peek(x_):\n",
        "  print('The shape is:', x_.shape)\n",
        "  print('An element looks like:\\n', x_[0].shape)\n",
        "  \n",
        "def plot_mfcc(mfcc):\n",
        "  fig, ax = plt.subplots()\n",
        "  cax = ax.imshow(mfcc, interpolation='nearest', cmap=cm.coolwarm,\n",
        "                 origin='lower')\n",
        "  ax.set_title('MFCC')\n",
        "  plt.show()\n",
        "\n",
        "data_peek(df['mfcc'].iloc[0])"
      ],
      "execution_count": 0,
      "outputs": [
        {
          "output_type": "stream",
          "text": [
            "The shape is: (40, 4)\n",
            "An element looks like:\n",
            " (4,)\n"
          ],
          "name": "stdout"
        }
      ]
    },
    {
      "cell_type": "code",
      "metadata": {
        "id": "IvL9rSaR_av3",
        "colab_type": "code",
        "outputId": "fe42f595-d351-46dc-c9c4-4465f1e915b8",
        "colab": {
          "base_uri": "https://localhost:8080/",
          "height": 68
        }
      },
      "source": [
        "data_peek(df[['Tone']].values)"
      ],
      "execution_count": 0,
      "outputs": [
        {
          "output_type": "stream",
          "text": [
            "The shape is: (16026, 1)\n",
            "An element looks like:\n",
            " (1,)\n"
          ],
          "name": "stdout"
        }
      ]
    },
    {
      "cell_type": "markdown",
      "metadata": {
        "id": "odm4NFVYe-v7",
        "colab_type": "text"
      },
      "source": [
        "Let's visualize our data."
      ]
    },
    {
      "cell_type": "code",
      "metadata": {
        "id": "Fpdqsq7hgyPt",
        "colab_type": "code",
        "outputId": "8869a5b2-594d-4948-e077-77ef46f1a45b",
        "colab": {
          "base_uri": "https://localhost:8080/",
          "height": 281
        }
      },
      "source": [
        "plot_mfcc(df['mfcc'].iloc[0])"
      ],
      "execution_count": 0,
      "outputs": [
        {
          "output_type": "display_data",
          "data": {
            "image/png": "[encoded data removed]",
            "text/plain": [
              "<Figure size 432x288 with 1 Axes>"
            ]
          },
          "metadata": {
            "tags": []
          }
        }
      ]
    },
    {
      "cell_type": "markdown",
      "metadata": {
        "id": "pJ203fVU6wF4",
        "colab_type": "text"
      },
      "source": [
        "# Pre-processing"
      ]
    },
    {
      "cell_type": "markdown",
      "metadata": {
        "id": "mQaCC6_uNonY",
        "colab_type": "text"
      },
      "source": [
        ""
      ]
    },
    {
      "cell_type": "code",
      "metadata": {
        "id": "eD_oKZrXNouP",
        "colab_type": "code",
        "colab": {}
      },
      "source": [
        "def preprocess():\n",
        "  # Load the data into memory\n",
        "  df = load_data()\n",
        "  df['mfcc'] = df['mfcc'].apply(lambda i: mp.array(i).reshape(40, -1))\n",
        "  \n",
        "  ''' Convert tone categorization to a one-hot categorization '''\n",
        "  # Subtract 1 so that classification aligns with index\n",
        "  df['Tone'] = df['Tone'].apply(lambda i: int(i - 1))\n",
        "  # \n",
        "  df['Tone'] = df['Tone'].apply(lambda i: to_categorical(i, num_classes=4))\n",
        "  "
      ],
      "execution_count": 0,
      "outputs": []
    },
    {
      "cell_type": "markdown",
      "metadata": {
        "id": "2KSFejMrKt1J",
        "colab_type": "text"
      },
      "source": [
        "Let's fetch our values"
      ]
    },
    {
      "cell_type": "code",
      "metadata": {
        "id": "a15vh4NTLQXF",
        "colab_type": "code",
        "colab": {}
      },
      "source": [
        "def fetch_xy(df):\n",
        "  x = np.array([np.array(i[0]).reshape(1, 40, -1) for i in df[['mfcc']].values])\n",
        "  y = np.array([np.array(i[0]).reshape(4) for i in df[['Tone']].values])\n",
        "  \n",
        "  return x, y"
      ],
      "execution_count": 0,
      "outputs": []
    },
    {
      "cell_type": "markdown",
      "metadata": {
        "id": "TFC2-MHFpVCK",
        "colab_type": "text"
      },
      "source": [
        "We need to reshape the MFCC "
      ]
    },
    {
      "cell_type": "code",
      "metadata": {
        "id": "KxKz_0alp_V2",
        "colab_type": "code",
        "outputId": "712e2173-32e6-4708-c712-91bc50d5d34e",
        "colab": {
          "base_uri": "https://localhost:8080/",
          "height": 51
        }
      },
      "source": [
        "x, y = fetch_xy(df)\n",
        "x = [i[0].reshape(1, 40, -1) for i in x]\n",
        "\n",
        "min_size = min([i.shape for i in x])\n",
        "max_size = max([i.shape for i in x])\n",
        "print('Min sample size:', min_size)\n",
        "print('Max sample size:', max_size)"
      ],
      "execution_count": 0,
      "outputs": [
        {
          "output_type": "stream",
          "text": [
            "Min sample size: (1,)\n",
            "Max sample size: (1,)\n"
          ],
          "name": "stdout"
        }
      ]
    },
    {
      "cell_type": "code",
      "metadata": {
        "id": "OBaQrEkmHkFI",
        "colab_type": "code",
        "outputId": "2cb88ef1-a9bc-44a6-b8bf-b5f273c8b540",
        "colab": {
          "base_uri": "https://localhost:8080/",
          "height": 68
        }
      },
      "source": [
        "x = df[['mfcc']].values\n",
        "\n",
        "data_peek(x)"
      ],
      "execution_count": 0,
      "outputs": [
        {
          "output_type": "stream",
          "text": [
            "The shape is: (16026, 1)\n",
            "An element looks like:\n",
            " (1,)\n"
          ],
          "name": "stdout"
        }
      ]
    },
    {
      "cell_type": "markdown",
      "metadata": {
        "id": "NpddAuiCrrOY",
        "colab_type": "text"
      },
      "source": [
        "We need the lengths of each MFCC to be the same. This function will pad each until they are all the same size as the largest sample in the dataset."
      ]
    },
    {
      "cell_type": "code",
      "metadata": {
        "id": "70Cn5-Jur23u",
        "colab_type": "code",
        "outputId": "70808e6a-6714-4c44-8c32-623094185a9a",
        "colab": {
          "base_uri": "https://localhost:8080/",
          "height": 68
        }
      },
      "source": [
        "def pad_mfcc(x_, size):\n",
        "  result = np.zeros(size)\n",
        "  result[:x_.shape[0],:x_.shape[1], :x_.shape[2]] = x_\n",
        "  return result\n",
        "\n",
        "x = [pad_mfcc(i, max_size) for i in x]\n",
        "x = np.array(x)\n",
        "\n",
        "data_peek(x)"
      ],
      "execution_count": 0,
      "outputs": [
        {
          "output_type": "stream",
          "text": [
            "The shape is: (16026, 1, 40, 30)\n",
            "An element looks like:\n",
            " (1, 40, 30)\n"
          ],
          "name": "stdout"
        }
      ]
    },
    {
      "cell_type": "markdown",
      "metadata": {
        "id": "benqq5h25YWe",
        "colab_type": "text"
      },
      "source": [
        "Now let's pre-process our labels. "
      ]
    },
    {
      "cell_type": "code",
      "metadata": {
        "id": "TjRlJT_d5ea8",
        "colab_type": "code",
        "outputId": "eed89b75-d907-4710-b4a9-586f61958e4a",
        "colab": {
          "base_uri": "https://localhost:8080/",
          "height": 34
        }
      },
      "source": [
        "from keras.utils import to_categorical\n",
        "\n",
        "# Subtract 1 so that classification aligns with index\n",
        "df['Tone'] = df['Tone'].apply(lambda i: int(i - 1))\n",
        "df['Tone'] = df['Tone'].apply(lambda i: to_categorical(i, num_classes=4))"
      ],
      "execution_count": 0,
      "outputs": [
        {
          "output_type": "stream",
          "text": [
            "Using TensorFlow backend.\n"
          ],
          "name": "stderr"
        }
      ]
    },
    {
      "cell_type": "code",
      "metadata": {
        "id": "r3U3oAaJ4LEi",
        "colab_type": "code",
        "outputId": "94a7bd7a-7bcd-481f-ce83-fbc9c15c0f1c",
        "colab": {
          "base_uri": "https://localhost:8080/",
          "height": 68
        }
      },
      "source": [
        "y = df[['Tone']].values\n",
        "data_peek(y)"
      ],
      "execution_count": 0,
      "outputs": [
        {
          "output_type": "stream",
          "text": [
            "The shape is: (16026, 1)\n",
            "An element looks like:\n",
            " (1,)\n"
          ],
          "name": "stdout"
        }
      ]
    },
    {
      "cell_type": "code",
      "metadata": {
        "id": "QKY8yKvrwYs7",
        "colab_type": "code",
        "outputId": "5131bba3-f5de-4266-a297-34f0009d0a60",
        "colab": {
          "base_uri": "https://localhost:8080/",
          "height": 119
        }
      },
      "source": [
        "from sklearn.model_selection import train_test_split\n",
        "\n",
        "xTrain, xTest, yTrain, yTest = train_test_split(x, y, test_size=0.2, \n",
        "                                                random_state=502)\n",
        "data_peek(xTrain)\n",
        "data_peek(yTrain)"
      ],
      "execution_count": 0,
      "outputs": [
        {
          "output_type": "stream",
          "text": [
            "The shape is: (12820, 1, 40, 30)\n",
            "An element looks like:\n",
            " (1, 40, 30)\n",
            "The shape is: (12820, 1)\n",
            "An element looks like:\n",
            " (1,)\n"
          ],
          "name": "stdout"
        }
      ]
    },
    {
      "cell_type": "code",
      "metadata": {
        "id": "I7LUwUOMy-iS",
        "colab_type": "code",
        "outputId": "ec7b5478-1e34-4a36-aee7-34895356e9e1",
        "colab": {
          "base_uri": "https://localhost:8080/",
          "height": 281
        }
      },
      "source": [
        "from sklearn import preprocessing\n",
        "\n",
        "X_train = np.array([preprocessing.scale(i.reshape(40, 30)) for i in xTrain])\n",
        "X_test = np.array([preprocessing.scale(i.reshape(40, 30)) for i in xTest])\n",
        "data_peek(X_train)"
      ],
      "execution_count": 0,
      "outputs": [
        {
          "output_type": "stream",
          "text": [
            "The shape of x is: (12820, 40, 30)\n",
            "An element in x looks like:\n",
            " [[-5.54647868e+00 -5.28417261e+00 -5.27644384e+00 ...  0.00000000e+00\n",
            "   0.00000000e+00  0.00000000e+00]\n",
            " [ 2.82761362e+00  3.26261063e+00  3.25772187e+00 ...  0.00000000e+00\n",
            "   0.00000000e+00  0.00000000e+00]\n",
            " [-6.40913606e-01 -8.00906329e-01 -7.22740026e-01 ...  0.00000000e+00\n",
            "   0.00000000e+00  0.00000000e+00]\n",
            " ...\n",
            " [ 1.18400945e-01  9.49455017e-02  5.61946481e-02 ...  0.00000000e+00\n",
            "   0.00000000e+00  0.00000000e+00]\n",
            " [-5.08013888e-04  6.53583878e-03  6.60782812e-02 ...  0.00000000e+00\n",
            "   0.00000000e+00  0.00000000e+00]\n",
            " [ 1.37937840e-01  1.17449601e-01  1.18634869e-01 ...  0.00000000e+00\n",
            "   0.00000000e+00  0.00000000e+00]]\n"
          ],
          "name": "stdout"
        }
      ]
    },
    {
      "cell_type": "code",
      "metadata": {
        "id": "fZAUrAjt0SvR",
        "colab_type": "code",
        "colab": {}
      },
      "source": [
        "from keras.models import Sequential\n",
        "from keras.optimizers import SGD, RMSprop, Adadelta\n",
        "from keras.layers import Dense, Dropout, Activation\n",
        "from keras.layers import Flatten, Conv2D, MaxPooling2D\n",
        "from keras.regularizers import l1, l2\n",
        "import matplotlib.pyplot as plt"
      ],
      "execution_count": 0,
      "outputs": []
    },
    {
      "cell_type": "code",
      "metadata": {
        "id": "fqXH3wjz0YuI",
        "colab_type": "code",
        "colab": {}
      },
      "source": [
        "def plot_model(history):\n",
        "  plt.plot(history.history['acc'])\n",
        "  plt.plot(history.history['val_acc'])\n",
        "  plt.title('Model Accuracy')\n",
        "  plt.ylabel('Accuracy')\n",
        "  plt.xlabel('Epoch')\n",
        "  plt.legend(['Train', 'Test'], loc='upper left')\n",
        "  plt.show()\n",
        "  \n",
        "  plt.plot(history.history['loss'])\n",
        "  plt.plot(history.history['val_loss'])\n",
        "  plt.title('Model Loss')\n",
        "  plt.ylabel('Loss')\n",
        "  plt.xlabel('Epoch')\n",
        "  plt.legend(['Train', 'Test'], loc='upper left')\n",
        "  plt.show()"
      ],
      "execution_count": 0,
      "outputs": []
    },
    {
      "cell_type": "code",
      "metadata": {
        "id": "gLuFe8UB0tPP",
        "colab_type": "code",
        "outputId": "ef5439ff-2e6d-4be3-bb68-cc35c6618445",
        "colab": {
          "base_uri": "https://localhost:8080/",
          "height": 4219
        }
      },
      "source": [
        "def cnn(x_train, x_test, y_train, y_test):\n",
        "  model = Sequential()\n",
        "  model.add(Conv2D(32, (3, 3), input_shape=x_train.shape[1:], dim_ordering='th'))\n",
        "  model.add(Activation('relu'))\n",
        "  model.add(MaxPooling2D(pool_size=(2, 2)))\n",
        "  model.add(Dropout(0.125))\n",
        "  \n",
        "  model.add(Conv2D(32, (3, 3)))\n",
        "  model.add(Activation('relu'))\n",
        "  model.add(MaxPooling2D(pool_size=(2, 2)))\n",
        "  model.add(Dropout(0.125))\n",
        "  \n",
        "  model.add(Flatten())\n",
        "  model.add(Dense(128, activation='relu',\n",
        "                   kernel_regularizer=l2(0.00001),\n",
        "                   activity_regularizer=l1(0.00001)))\n",
        "  model.add(Dropout(0.125))\n",
        "  model.add(Dense(4, activation='softmax'))\n",
        "  \n",
        "  optimizer = SGD(lr=0.01, momentum=1e-2, decay=1e-6)\n",
        "  # optimizer = RMSprop(lr=0.00001, decay=1e-8)\n",
        "  # optimizer = Adadelta()\n",
        "\n",
        "  model.compile(loss='categorical_crossentropy',\n",
        "              optimizer=optimizer,\n",
        "              metrics=['accuracy'])\n",
        "\n",
        "  model_history = model.fit(x_train, y_train,\n",
        "           epochs=100,\n",
        "         batch_size=128, verbose=1, validation_split=0.2)\n",
        "  score = model.evaluate(x_test, y_test, batch_size=32)\n",
        "  print('Model accuracy is:', score[1])\n",
        "\n",
        "  plot_model(model_history)\n",
        "  return model_history\n",
        " \n",
        "cnn(xTrain, xTest, yTrain, yTest)"
      ],
      "execution_count": 0,
      "outputs": [
        {
          "output_type": "stream",
          "text": [
            "/usr/local/lib/python3.6/dist-packages/ipykernel_launcher.py:3: UserWarning: Update your `Conv2D` call to the Keras 2 API: `Conv2D(32, (3, 3), input_shape=(1, 40, 30..., data_format=\"channels_first\")`\n",
            "  This is separate from the ipykernel package so we can avoid doing imports until\n"
          ],
          "name": "stderr"
        },
        {
          "output_type": "stream",
          "text": [
            "Train on 10256 samples, validate on 2564 samples\n",
            "Epoch 1/100\n",
            "10256/10256 [==============================] - 22s 2ms/step - loss: 1.7779 - acc: 0.3195 - val_loss: 1.3054 - val_acc: 0.4134\n",
            "Epoch 2/100\n",
            "10256/10256 [==============================] - 20s 2ms/step - loss: 1.3060 - acc: 0.4151 - val_loss: 1.2402 - val_acc: 0.4879\n",
            "Epoch 3/100\n",
            "10256/10256 [==============================] - 20s 2ms/step - loss: 1.2418 - acc: 0.4491 - val_loss: 1.1774 - val_acc: 0.5195\n",
            "Epoch 4/100\n",
            "10256/10256 [==============================] - 20s 2ms/step - loss: 1.2106 - acc: 0.4782 - val_loss: 1.1659 - val_acc: 0.5347\n",
            "Epoch 5/100\n",
            "10256/10256 [==============================] - 19s 2ms/step - loss: 1.1845 - acc: 0.4894 - val_loss: 1.1099 - val_acc: 0.5589\n",
            "Epoch 6/100\n",
            "10256/10256 [==============================] - 19s 2ms/step - loss: 1.1519 - acc: 0.5188 - val_loss: 1.1081 - val_acc: 0.5398\n",
            "Epoch 7/100\n",
            "10256/10256 [==============================] - 19s 2ms/step - loss: 1.1336 - acc: 0.5282 - val_loss: 1.1685 - val_acc: 0.5215\n",
            "Epoch 8/100\n",
            "10256/10256 [==============================] - 19s 2ms/step - loss: 1.1196 - acc: 0.5315 - val_loss: 1.0969 - val_acc: 0.5644\n",
            "Epoch 9/100\n",
            "10256/10256 [==============================] - 20s 2ms/step - loss: 1.1049 - acc: 0.5414 - val_loss: 1.1222 - val_acc: 0.5203\n",
            "Epoch 10/100\n",
            "10256/10256 [==============================] - 19s 2ms/step - loss: 1.0926 - acc: 0.5448 - val_loss: 1.0361 - val_acc: 0.5842\n",
            "Epoch 11/100\n",
            "10256/10256 [==============================] - 19s 2ms/step - loss: 1.0714 - acc: 0.5597 - val_loss: 1.0532 - val_acc: 0.5932\n",
            "Epoch 12/100\n",
            "10256/10256 [==============================] - 19s 2ms/step - loss: 1.0671 - acc: 0.5591 - val_loss: 1.0304 - val_acc: 0.5815\n",
            "Epoch 13/100\n",
            "10256/10256 [==============================] - 19s 2ms/step - loss: 1.0517 - acc: 0.5683 - val_loss: 1.0355 - val_acc: 0.5889\n",
            "Epoch 14/100\n",
            "10256/10256 [==============================] - 19s 2ms/step - loss: 1.0441 - acc: 0.5771 - val_loss: 1.0612 - val_acc: 0.5608\n",
            "Epoch 15/100\n",
            "10256/10256 [==============================] - 19s 2ms/step - loss: 1.0388 - acc: 0.5786 - val_loss: 0.9943 - val_acc: 0.6073\n",
            "Epoch 16/100\n",
            "10256/10256 [==============================] - 19s 2ms/step - loss: 1.0202 - acc: 0.5825 - val_loss: 1.0056 - val_acc: 0.6069\n",
            "Epoch 17/100\n",
            "10256/10256 [==============================] - 19s 2ms/step - loss: 1.0067 - acc: 0.5919 - val_loss: 1.0105 - val_acc: 0.5948\n",
            "Epoch 18/100\n",
            "10256/10256 [==============================] - 19s 2ms/step - loss: 1.0136 - acc: 0.5848 - val_loss: 1.0515 - val_acc: 0.5698\n",
            "Epoch 19/100\n",
            "10256/10256 [==============================] - 19s 2ms/step - loss: 0.9997 - acc: 0.5975 - val_loss: 1.0107 - val_acc: 0.6037\n",
            "Epoch 20/100\n",
            "10256/10256 [==============================] - 19s 2ms/step - loss: 0.9951 - acc: 0.5999 - val_loss: 1.0275 - val_acc: 0.5749\n",
            "Epoch 21/100\n",
            "10256/10256 [==============================] - 19s 2ms/step - loss: 0.9854 - acc: 0.6009 - val_loss: 0.9582 - val_acc: 0.6229\n",
            "Epoch 22/100\n",
            "10256/10256 [==============================] - 19s 2ms/step - loss: 0.9840 - acc: 0.5989 - val_loss: 0.9415 - val_acc: 0.6291\n",
            "Epoch 23/100\n",
            "10256/10256 [==============================] - 19s 2ms/step - loss: 0.9744 - acc: 0.6074 - val_loss: 0.9601 - val_acc: 0.6127\n",
            "Epoch 24/100\n",
            "10256/10256 [==============================] - 19s 2ms/step - loss: 0.9563 - acc: 0.6139 - val_loss: 1.0344 - val_acc: 0.5776\n",
            "Epoch 25/100\n",
            "10256/10256 [==============================] - 19s 2ms/step - loss: 0.9592 - acc: 0.6122 - val_loss: 0.9722 - val_acc: 0.6166\n",
            "Epoch 26/100\n",
            "10256/10256 [==============================] - 19s 2ms/step - loss: 0.9522 - acc: 0.6155 - val_loss: 0.9657 - val_acc: 0.6197\n",
            "Epoch 27/100\n",
            "10256/10256 [==============================] - 19s 2ms/step - loss: 0.9465 - acc: 0.6216 - val_loss: 0.9134 - val_acc: 0.6486\n",
            "Epoch 28/100\n",
            "10256/10256 [==============================] - 19s 2ms/step - loss: 0.9350 - acc: 0.6319 - val_loss: 0.9343 - val_acc: 0.6447\n",
            "Epoch 29/100\n",
            "10256/10256 [==============================] - 19s 2ms/step - loss: 0.9369 - acc: 0.6296 - val_loss: 0.9616 - val_acc: 0.6334\n",
            "Epoch 30/100\n",
            "10256/10256 [==============================] - 19s 2ms/step - loss: 0.9380 - acc: 0.6291 - val_loss: 0.9343 - val_acc: 0.6295\n",
            "Epoch 31/100\n",
            "10256/10256 [==============================] - 19s 2ms/step - loss: 0.9200 - acc: 0.6350 - val_loss: 0.9493 - val_acc: 0.6271\n",
            "Epoch 32/100\n",
            "10256/10256 [==============================] - 19s 2ms/step - loss: 0.9148 - acc: 0.6423 - val_loss: 1.1722 - val_acc: 0.5246\n",
            "Epoch 33/100\n",
            "10256/10256 [==============================] - 19s 2ms/step - loss: 0.9116 - acc: 0.6417 - val_loss: 0.9179 - val_acc: 0.6373\n",
            "Epoch 34/100\n",
            "10256/10256 [==============================] - 19s 2ms/step - loss: 0.9076 - acc: 0.6402 - val_loss: 0.9422 - val_acc: 0.6221\n",
            "Epoch 35/100\n",
            "10256/10256 [==============================] - 19s 2ms/step - loss: 0.8980 - acc: 0.6468 - val_loss: 0.9100 - val_acc: 0.6513\n",
            "Epoch 36/100\n",
            "10256/10256 [==============================] - 19s 2ms/step - loss: 0.8921 - acc: 0.6492 - val_loss: 0.9189 - val_acc: 0.6318\n",
            "Epoch 37/100\n",
            "10256/10256 [==============================] - 19s 2ms/step - loss: 0.8966 - acc: 0.6455 - val_loss: 0.9778 - val_acc: 0.6088\n",
            "Epoch 38/100\n",
            "10256/10256 [==============================] - 19s 2ms/step - loss: 0.8917 - acc: 0.6504 - val_loss: 0.9195 - val_acc: 0.6396\n",
            "Epoch 39/100\n",
            "10256/10256 [==============================] - 19s 2ms/step - loss: 0.8790 - acc: 0.6512 - val_loss: 0.9110 - val_acc: 0.6416\n",
            "Epoch 40/100\n",
            "10256/10256 [==============================] - 19s 2ms/step - loss: 0.8767 - acc: 0.6576 - val_loss: 0.9870 - val_acc: 0.6108\n",
            "Epoch 41/100\n",
            "10256/10256 [==============================] - 19s 2ms/step - loss: 0.8803 - acc: 0.6512 - val_loss: 0.8990 - val_acc: 0.6385\n",
            "Epoch 42/100\n",
            "10256/10256 [==============================] - 19s 2ms/step - loss: 0.8658 - acc: 0.6641 - val_loss: 1.0263 - val_acc: 0.6080\n",
            "Epoch 43/100\n",
            "10256/10256 [==============================] - 19s 2ms/step - loss: 0.8659 - acc: 0.6577 - val_loss: 0.9120 - val_acc: 0.6369\n",
            "Epoch 44/100\n",
            "10256/10256 [==============================] - 19s 2ms/step - loss: 0.8640 - acc: 0.6597 - val_loss: 0.8903 - val_acc: 0.6548\n",
            "Epoch 45/100\n",
            "10256/10256 [==============================] - 19s 2ms/step - loss: 0.8545 - acc: 0.6701 - val_loss: 0.8605 - val_acc: 0.6728\n",
            "Epoch 46/100\n",
            "10256/10256 [==============================] - 19s 2ms/step - loss: 0.8535 - acc: 0.6723 - val_loss: 0.8763 - val_acc: 0.6568\n",
            "Epoch 47/100\n",
            "10256/10256 [==============================] - 19s 2ms/step - loss: 0.8457 - acc: 0.6743 - val_loss: 0.9205 - val_acc: 0.6498\n",
            "Epoch 48/100\n",
            "10256/10256 [==============================] - 19s 2ms/step - loss: 0.8396 - acc: 0.6735 - val_loss: 0.8924 - val_acc: 0.6548\n",
            "Epoch 49/100\n",
            "10256/10256 [==============================] - 19s 2ms/step - loss: 0.8388 - acc: 0.6714 - val_loss: 0.9079 - val_acc: 0.6517\n",
            "Epoch 50/100\n",
            "10256/10256 [==============================] - 19s 2ms/step - loss: 0.8286 - acc: 0.6796 - val_loss: 0.8524 - val_acc: 0.6739\n",
            "Epoch 51/100\n",
            "10256/10256 [==============================] - 19s 2ms/step - loss: 0.8300 - acc: 0.6766 - val_loss: 0.8872 - val_acc: 0.6517\n",
            "Epoch 52/100\n",
            "10256/10256 [==============================] - 19s 2ms/step - loss: 0.8304 - acc: 0.6816 - val_loss: 0.8770 - val_acc: 0.6634\n",
            "Epoch 53/100\n",
            "10256/10256 [==============================] - 19s 2ms/step - loss: 0.8167 - acc: 0.6828 - val_loss: 0.8499 - val_acc: 0.6677\n",
            "Epoch 54/100\n",
            "10256/10256 [==============================] - 19s 2ms/step - loss: 0.8124 - acc: 0.6864 - val_loss: 0.9067 - val_acc: 0.6541\n",
            "Epoch 55/100\n",
            "10256/10256 [==============================] - 19s 2ms/step - loss: 0.8216 - acc: 0.6845 - val_loss: 0.8553 - val_acc: 0.6782\n",
            "Epoch 56/100\n",
            "10256/10256 [==============================] - 19s 2ms/step - loss: 0.8085 - acc: 0.6862 - val_loss: 0.9415 - val_acc: 0.6260\n",
            "Epoch 57/100\n",
            "10256/10256 [==============================] - 20s 2ms/step - loss: 0.8028 - acc: 0.6889 - val_loss: 0.8526 - val_acc: 0.6739\n",
            "Epoch 58/100\n",
            "10256/10256 [==============================] - 19s 2ms/step - loss: 0.8035 - acc: 0.6934 - val_loss: 0.9734 - val_acc: 0.6041\n",
            "Epoch 59/100\n",
            "10256/10256 [==============================] - 19s 2ms/step - loss: 0.8097 - acc: 0.6847 - val_loss: 0.8568 - val_acc: 0.6712\n",
            "Epoch 60/100\n",
            "10256/10256 [==============================] - 19s 2ms/step - loss: 0.8026 - acc: 0.6886 - val_loss: 0.8812 - val_acc: 0.6697\n",
            "Epoch 61/100\n",
            "10256/10256 [==============================] - 19s 2ms/step - loss: 0.7997 - acc: 0.6958 - val_loss: 0.8574 - val_acc: 0.6778\n",
            "Epoch 62/100\n",
            "10256/10256 [==============================] - 19s 2ms/step - loss: 0.7944 - acc: 0.6963 - val_loss: 0.8688 - val_acc: 0.6661\n",
            "Epoch 63/100\n",
            "10256/10256 [==============================] - 19s 2ms/step - loss: 0.7895 - acc: 0.6920 - val_loss: 0.8463 - val_acc: 0.6771\n",
            "Epoch 64/100\n",
            "10256/10256 [==============================] - 19s 2ms/step - loss: 0.7879 - acc: 0.6987 - val_loss: 0.8738 - val_acc: 0.6587\n",
            "Epoch 65/100\n",
            "10256/10256 [==============================] - 19s 2ms/step - loss: 0.7821 - acc: 0.6994 - val_loss: 0.8332 - val_acc: 0.6899\n",
            "Epoch 66/100\n",
            "10256/10256 [==============================] - 19s 2ms/step - loss: 0.7890 - acc: 0.6967 - val_loss: 0.8294 - val_acc: 0.6919\n",
            "Epoch 67/100\n",
            "10256/10256 [==============================] - 19s 2ms/step - loss: 0.7728 - acc: 0.7020 - val_loss: 0.8358 - val_acc: 0.6802\n",
            "Epoch 68/100\n",
            "10256/10256 [==============================] - 19s 2ms/step - loss: 0.7659 - acc: 0.7079 - val_loss: 0.8335 - val_acc: 0.6931\n",
            "Epoch 69/100\n",
            "10256/10256 [==============================] - 19s 2ms/step - loss: 0.7648 - acc: 0.7111 - val_loss: 0.8275 - val_acc: 0.6825\n",
            "Epoch 70/100\n",
            "10256/10256 [==============================] - 19s 2ms/step - loss: 0.7678 - acc: 0.7072 - val_loss: 0.9206 - val_acc: 0.6466\n",
            "Epoch 71/100\n",
            "10256/10256 [==============================] - 19s 2ms/step - loss: 0.7652 - acc: 0.7055 - val_loss: 0.8579 - val_acc: 0.6790\n",
            "Epoch 72/100\n",
            "10256/10256 [==============================] - 19s 2ms/step - loss: 0.7636 - acc: 0.7071 - val_loss: 0.8405 - val_acc: 0.6841\n",
            "Epoch 73/100\n",
            "10256/10256 [==============================] - 20s 2ms/step - loss: 0.7654 - acc: 0.7105 - val_loss: 0.8355 - val_acc: 0.6919\n",
            "Epoch 74/100\n",
            "10256/10256 [==============================] - 20s 2ms/step - loss: 0.7602 - acc: 0.7118 - val_loss: 0.8230 - val_acc: 0.6950\n",
            "Epoch 75/100\n",
            "10256/10256 [==============================] - 19s 2ms/step - loss: 0.7536 - acc: 0.7119 - val_loss: 0.8613 - val_acc: 0.6806\n",
            "Epoch 76/100\n",
            "10256/10256 [==============================] - 19s 2ms/step - loss: 0.7573 - acc: 0.7142 - val_loss: 0.8547 - val_acc: 0.6732\n",
            "Epoch 77/100\n",
            "10256/10256 [==============================] - 19s 2ms/step - loss: 0.7485 - acc: 0.7147 - val_loss: 0.8128 - val_acc: 0.6907\n",
            "Epoch 78/100\n",
            "10256/10256 [==============================] - 19s 2ms/step - loss: 0.7340 - acc: 0.7246 - val_loss: 0.8189 - val_acc: 0.6970\n",
            "Epoch 79/100\n",
            "10256/10256 [==============================] - 19s 2ms/step - loss: 0.7431 - acc: 0.7193 - val_loss: 0.8093 - val_acc: 0.6985\n",
            "Epoch 80/100\n",
            "10256/10256 [==============================] - 19s 2ms/step - loss: 0.7361 - acc: 0.7161 - val_loss: 0.8444 - val_acc: 0.6853\n",
            "Epoch 81/100\n",
            "10256/10256 [==============================] - 19s 2ms/step - loss: 0.7312 - acc: 0.7223 - val_loss: 0.8458 - val_acc: 0.6892\n",
            "Epoch 82/100\n",
            "10256/10256 [==============================] - 19s 2ms/step - loss: 0.7334 - acc: 0.7189 - val_loss: 0.8897 - val_acc: 0.6646\n",
            "Epoch 83/100\n",
            "10256/10256 [==============================] - 19s 2ms/step - loss: 0.7331 - acc: 0.7209 - val_loss: 0.8070 - val_acc: 0.7044\n",
            "Epoch 84/100\n",
            "10256/10256 [==============================] - 19s 2ms/step - loss: 0.7221 - acc: 0.7257 - val_loss: 0.8390 - val_acc: 0.6833\n",
            "Epoch 85/100\n",
            "10256/10256 [==============================] - 19s 2ms/step - loss: 0.7230 - acc: 0.7272 - val_loss: 0.8479 - val_acc: 0.6864\n",
            "Epoch 86/100\n",
            "10256/10256 [==============================] - 19s 2ms/step - loss: 0.7200 - acc: 0.7261 - val_loss: 0.8248 - val_acc: 0.6958\n",
            "Epoch 87/100\n",
            "10256/10256 [==============================] - 19s 2ms/step - loss: 0.7193 - acc: 0.7290 - val_loss: 0.8149 - val_acc: 0.6958\n",
            "Epoch 88/100\n",
            "10256/10256 [==============================] - 19s 2ms/step - loss: 0.7136 - acc: 0.7355 - val_loss: 0.8634 - val_acc: 0.6775\n",
            "Epoch 89/100\n",
            "10256/10256 [==============================] - 19s 2ms/step - loss: 0.7146 - acc: 0.7374 - val_loss: 0.8316 - val_acc: 0.6860\n",
            "Epoch 90/100\n",
            "10256/10256 [==============================] - 19s 2ms/step - loss: 0.7064 - acc: 0.7369 - val_loss: 0.8072 - val_acc: 0.7102\n",
            "Epoch 91/100\n",
            "10256/10256 [==============================] - 19s 2ms/step - loss: 0.6980 - acc: 0.7386 - val_loss: 0.8345 - val_acc: 0.6911\n",
            "Epoch 92/100\n",
            "10256/10256 [==============================] - 19s 2ms/step - loss: 0.7012 - acc: 0.7356 - val_loss: 0.8044 - val_acc: 0.7048\n",
            "Epoch 93/100\n",
            "10256/10256 [==============================] - 19s 2ms/step - loss: 0.6929 - acc: 0.7418 - val_loss: 0.7952 - val_acc: 0.7067\n",
            "Epoch 94/100\n",
            "10256/10256 [==============================] - 19s 2ms/step - loss: 0.7028 - acc: 0.7311 - val_loss: 0.8860 - val_acc: 0.6841\n",
            "Epoch 95/100\n",
            "10256/10256 [==============================] - 19s 2ms/step - loss: 0.6964 - acc: 0.7402 - val_loss: 0.8217 - val_acc: 0.6899\n",
            "Epoch 96/100\n",
            "10256/10256 [==============================] - 19s 2ms/step - loss: 0.6976 - acc: 0.7370 - val_loss: 0.8135 - val_acc: 0.7051\n",
            "Epoch 97/100\n",
            "10256/10256 [==============================] - 19s 2ms/step - loss: 0.6937 - acc: 0.7386 - val_loss: 0.7986 - val_acc: 0.7145\n",
            "Epoch 98/100\n",
            "10256/10256 [==============================] - 19s 2ms/step - loss: 0.6921 - acc: 0.7399 - val_loss: 0.8393 - val_acc: 0.6942\n",
            "Epoch 99/100\n",
            "10256/10256 [==============================] - 19s 2ms/step - loss: 0.6832 - acc: 0.7449 - val_loss: 0.8104 - val_acc: 0.6954\n",
            "Epoch 100/100\n",
            "10256/10256 [==============================] - 19s 2ms/step - loss: 0.6872 - acc: 0.7428 - val_loss: 0.8003 - val_acc: 0.7106\n",
            "3206/3206 [==============================] - 2s 678us/step\n",
            "Model accuracy is: 0.7061759201497193\n"
          ],
          "name": "stdout"
        },
        {
          "output_type": "display_data",
          "data": {
            "image/png": "[encoded data removed]",
            "text/plain": [
              "<Figure size 432x288 with 1 Axes>"
            ]
          },
          "metadata": {
            "tags": []
          }
        },
        {
          "output_type": "display_data",
          "data": {
            "image/png": "[encoded data removed]",
            "text/plain": [
              "<Figure size 432x288 with 1 Axes>"
            ]
          },
          "metadata": {
            "tags": []
          }
        },
        {
          "output_type": "execute_result",
          "data": {
            "text/plain": [
              "<keras.callbacks.History at 0x7f74a26ed828>"
            ]
          },
          "metadata": {
            "tags": []
          },
          "execution_count": 27
        }
      ]
    }
  ]
}